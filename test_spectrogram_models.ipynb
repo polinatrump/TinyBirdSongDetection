{
 "cells": [
  {
   "cell_type": "code",
   "execution_count": 1,
   "metadata": {},
   "outputs": [],
   "source": [
    "%load_ext autoreload\n",
    "%autoreload 2"
   ]
  },
  {
   "cell_type": "code",
   "execution_count": 10,
   "metadata": {},
   "outputs": [],
   "source": [
    "import tensorflow as tf\n",
    "import os\n",
    "import numpy as np\n",
    "import tensorflow_io as tfio\n",
    "\n",
    "from helper_functions import (\n",
    "    create_spectrogram_features,\n",
    "    lite_model_from_file_predicts_dataset,\n",
    "    get_file_size, \n",
    "    convert_bytes,\n",
    "    evaluate_prediction,\n",
    "    full_int_model_predict\n",
    ")\n",
    "\n",
    "\n",
    "from sklearn.metrics import confusion_matrix"
   ]
  },
  {
   "cell_type": "code",
   "execution_count": 3,
   "metadata": {},
   "outputs": [],
   "source": [
    "desired_length_of_audio = 48000\n",
    "sample_rate = 16000"
   ]
  },
  {
   "cell_type": "code",
   "execution_count": 4,
   "metadata": {},
   "outputs": [
    {
     "name": "stderr",
     "output_type": "stream",
     "text": [
      "2024-06-20 10:40:54.580431: I external/local_xla/xla/stream_executor/cuda/cuda_executor.cc:887] could not open file to read NUMA node: /sys/bus/pci/devices/0000:01:00.0/numa_node\n",
      "Your kernel may have been built without NUMA support.\n",
      "2024-06-20 10:40:54.580822: W tensorflow/core/common_runtime/gpu/gpu_device.cc:2256] Cannot dlopen some GPU libraries. Please make sure the missing libraries mentioned above are installed properly if you would like to use GPU. Follow the guide at https://www.tensorflow.org/install/gpu for how to download and setup the required libraries for your platform.\n",
      "Skipping registering GPU devices...\n",
      "2024-06-20 10:40:54.732659: I tensorflow_io/core/kernels/cpu_check.cc:128] Your CPU supports instructions that this TensorFlow IO binary was not compiled to use: SSE3 SSE4.1 SSE4.2 AVX AVX2 FMA\n",
      "2024-06-20 10:40:54.759215: W tensorflow_io/core/kernels/audio_video_mp3_kernels.cc:271] libmp3lame.so.0 or lame functions are not available\n"
     ]
    },
    {
     "name": "stdout",
     "output_type": "stream",
     "text": [
      "WARNING:tensorflow:5 out of the last 5 calls to <function pfor.<locals>.f at 0x7f3b051d30d0> triggered tf.function retracing. Tracing is expensive and the excessive number of tracings could be due to (1) creating @tf.function repeatedly in a loop, (2) passing tensors with different shapes, (3) passing Python objects instead of tensors. For (1), please define your @tf.function outside of the loop. For (2), @tf.function has reduce_retracing=True option that can avoid unnecessary retracing. For (3), please refer to https://www.tensorflow.org/guide/function#controlling_retracing and https://www.tensorflow.org/api_docs/python/tf/function for  more details.\n",
      "WARNING:tensorflow:6 out of the last 6 calls to <function pfor.<locals>.f at 0x7f3b051d30d0> triggered tf.function retracing. Tracing is expensive and the excessive number of tracings could be due to (1) creating @tf.function repeatedly in a loop, (2) passing tensors with different shapes, (3) passing Python objects instead of tensors. For (1), please define your @tf.function outside of the loop. For (2), @tf.function has reduce_retracing=True option that can avoid unnecessary retracing. For (3), please refer to https://www.tensorflow.org/guide/function#controlling_retracing and https://www.tensorflow.org/api_docs/python/tf/function for  more details.\n"
     ]
    }
   ],
   "source": [
    "# Take all audio from testing dataset and create spectrograms from them\n",
    "# We will use spectrograms for models testing\n",
    "directory = 'dataset/testing'\n",
    "\n",
    "x_data = []\n",
    "y_data = []\n",
    "for root, dirs, files in os.walk(directory):\n",
    "    for file in files:\n",
    "        full_file_name = os.path.join(root, file)\n",
    "\n",
    "        if \"non_target\" in str(full_file_name):\n",
    "            class_encoded = 0\n",
    "        elif \"target\" in str(full_file_name):\n",
    "            class_encoded = 1\n",
    "\n",
    "        audio, sr = tf.audio.decode_wav(tf.io.read_file(full_file_name))\n",
    "        audio = tf.squeeze(audio, axis=-1)\n",
    "        resampled_audio = tfio.audio.resample(audio, rate_in=48000, rate_out=sample_rate)\n",
    "        # Prepare log mel spectrogram from audio\n",
    "        spectrogram_feature = create_spectrogram_features(resampled_audio, desired_length=48000, sample_rate = 16000)\n",
    "        x_data.append(spectrogram_feature)\n",
    "        y_data.append(class_encoded)\n",
    "\n",
    "# input data should be in numpy array, not in list\n",
    "x_data_np = np.array(x_data)\n",
    "y_data_np = np.array(y_data)"
   ]
  },
  {
   "cell_type": "code",
   "execution_count": 5,
   "metadata": {},
   "outputs": [
    {
     "name": "stdout",
     "output_type": "stream",
     "text": [
      "(184, 80, 1)\n"
     ]
    }
   ],
   "source": [
    "for i in x_data_np:\n",
    "    print(i.shape)\n",
    "    break"
   ]
  },
  {
   "cell_type": "markdown",
   "metadata": {},
   "source": [
    "### CNN"
   ]
  },
  {
   "cell_type": "markdown",
   "metadata": {},
   "source": [
    "##### CNN initial model in keras format"
   ]
  },
  {
   "cell_type": "code",
   "execution_count": 6,
   "metadata": {},
   "outputs": [
    {
     "name": "stdout",
     "output_type": "stream",
     "text": [
      "File size: 335.824 Kilobytes\n"
     ]
    }
   ],
   "source": [
    "cnn_initial_model_path = 'spectrogram_models_from_notebooks/cnn/cnn_mel_spec_16kHz_baseline.keras'\n",
    "convert_bytes(get_file_size(cnn_initial_model_path), \"KB\")"
   ]
  },
  {
   "cell_type": "code",
   "execution_count": 7,
   "metadata": {},
   "outputs": [
    {
     "name": "stdout",
     "output_type": "stream",
     "text": [
      "Accuracy: 98.99%\n",
      "Recall: 99.13%\n",
      "Precision: 97.84%\n",
      "F1-score: 98.48%\n"
     ]
    }
   ],
   "source": [
    "cnn_initial_model = tf.keras.models.load_model(cnn_initial_model_path)\n",
    "# input data should be in numpy array\n",
    "y_pred_prob = cnn_initial_model.predict(x_data_np, verbose=0)\n",
    "y_pred = tf.argmax(y_pred_prob, axis=1).numpy()\n",
    "\n",
    "# Evaluate\n",
    "evaluate_prediction(y_data_np, y_pred)"
   ]
  },
  {
   "cell_type": "markdown",
   "metadata": {},
   "source": [
    "##### CNN tf Lite model (without any additional quantization techniques)"
   ]
  },
  {
   "cell_type": "code",
   "execution_count": 19,
   "metadata": {},
   "outputs": [
    {
     "name": "stdout",
     "output_type": "stream",
     "text": [
      "File size: 103.684 Kilobytes\n",
      "Accuracy: 98.99%\n",
      "Recall: 99.13%\n",
      "Precision: 97.84%\n",
      "F1-score: 98.48%\n"
     ]
    }
   ],
   "source": [
    "cnn_tflite_model_path = 'spectrogram_models_from_notebooks/cnn/cnn_mel_spec_16kHz.tflite'\n",
    "convert_bytes(get_file_size(cnn_tflite_model_path), \"KB\")\n",
    "\n",
    "y_pred = lite_model_from_file_predicts_dataset(cnn_tflite_model_path, x_data_np, y_data_np)"
   ]
  },
  {
   "cell_type": "markdown",
   "metadata": {},
   "source": [
    "##### CNN tf Lite model + Post Training Dynamic range quantization"
   ]
  },
  {
   "cell_type": "code",
   "execution_count": 20,
   "metadata": {},
   "outputs": [
    {
     "name": "stdout",
     "output_type": "stream",
     "text": [
      "File size: 29.508 Kilobytes\n",
      "Accuracy: 98.99%\n",
      "Recall: 99.13%\n",
      "Precision: 97.84%\n",
      "F1-score: 98.48%\n"
     ]
    }
   ],
   "source": [
    "cnn_drq_model_path = 'spectrogram_models_from_notebooks/cnn/cnn_mel_spec_16kHz_drq.tflite'\n",
    "convert_bytes(get_file_size(cnn_drq_model_path), \"KB\")\n",
    "\n",
    "y_pred = lite_model_from_file_predicts_dataset(cnn_drq_model_path, x_data_np, y_data_np)"
   ]
  },
  {
   "cell_type": "markdown",
   "metadata": {},
   "source": [
    "##### CNN tf Lite model + Float 16 quantization"
   ]
  },
  {
   "cell_type": "code",
   "execution_count": 29,
   "metadata": {},
   "outputs": [
    {
     "name": "stdout",
     "output_type": "stream",
     "text": [
      "File size: 54.879 Kilobytes\n",
      "Accuracy: 98.99%\n",
      "Recall: 99.13%\n",
      "Precision: 97.84%\n",
      "F1-score: 98.48%\n"
     ]
    }
   ],
   "source": [
    "cnn_float16q_model_path = 'spectrogram_models_from_notebooks/cnn/cnn_mel_spec_16KHz_float16q.tflite'\n",
    "convert_bytes(get_file_size(cnn_float16q_model_path), \"KB\")\n",
    "\n",
    "y_pred = lite_model_from_file_predicts_dataset(cnn_float16q_model_path, x_data_np, y_data_np)"
   ]
  },
  {
   "cell_type": "markdown",
   "metadata": {},
   "source": [
    "##### CNN tf Lite model + Full int quantization"
   ]
  },
  {
   "cell_type": "code",
   "execution_count": 13,
   "metadata": {},
   "outputs": [
    {
     "name": "stdout",
     "output_type": "stream",
     "text": [
      "File size: 29.898 Kilobytes\n",
      "Accuracy: 98.78%\n",
      "Recall: 98.47%\n",
      "Precision: 97.83%\n",
      "F1-score: 98.15%\n"
     ]
    }
   ],
   "source": [
    "cnn_full_int_q_model_path = 'spectrogram_models_from_notebooks/cnn/cnn_mel_spec_16kHz_full_int_q.tflite'\n",
    "convert_bytes(get_file_size(cnn_full_int_q_model_path), \"KB\")\n",
    "\n",
    "y_pred = full_int_model_predict(cnn_full_int_q_model_path, x_data_np)\n",
    "evaluate_prediction(y_data_np, y_pred)"
   ]
  },
  {
   "cell_type": "markdown",
   "metadata": {},
   "source": [
    "### SqueezeNet"
   ]
  },
  {
   "cell_type": "markdown",
   "metadata": {},
   "source": [
    "##### SqueezeNet initial model in keras format"
   ]
  },
  {
   "cell_type": "code",
   "execution_count": 30,
   "metadata": {},
   "outputs": [
    {
     "name": "stdout",
     "output_type": "stream",
     "text": [
      "File size: 8687.448 Kilobytes\n"
     ]
    }
   ],
   "source": [
    "squeezenet_initial_model_path = 'spectrogram_models_from_notebooks/squeezenet/squeezenet_spec_16kHz_baseline.keras'\n",
    "convert_bytes(get_file_size(squeezenet_initial_model_path), \"KB\")"
   ]
  },
  {
   "cell_type": "code",
   "execution_count": 31,
   "metadata": {},
   "outputs": [
    {
     "name": "stdout",
     "output_type": "stream",
     "text": [
      "Accuracy: 98.56%\n",
      "Recall: 99.56%\n",
      "Precision: 96.20%\n",
      "F1-score: 97.85%\n"
     ]
    }
   ],
   "source": [
    "squeezenet_initial_model = tf.keras.models.load_model(squeezenet_initial_model_path)\n",
    "# input data should be in numpy array\n",
    "y_pred_prob = squeezenet_initial_model.predict(x_data_np, verbose=0)\n",
    "y_pred = tf.argmax(y_pred_prob, axis=1).numpy()\n",
    "\n",
    "# Evaluate\n",
    "evaluate_prediction(y_data_np, y_pred)"
   ]
  },
  {
   "cell_type": "markdown",
   "metadata": {},
   "source": [
    "##### SqueezeNet tf Lite model (without any additional quantization techniques)"
   ]
  },
  {
   "cell_type": "code",
   "execution_count": 32,
   "metadata": {},
   "outputs": [
    {
     "name": "stdout",
     "output_type": "stream",
     "text": [
      "File size: 2856.07 Kilobytes\n",
      "Accuracy: 98.56%\n",
      "Recall: 99.56%\n",
      "Precision: 96.20%\n",
      "F1-score: 97.85%\n"
     ]
    }
   ],
   "source": [
    "squeezenet_tflite_model_path = 'spectrogram_models_from_notebooks/squeezenet/squeezenet_spec_16kHz.tflite'\n",
    "convert_bytes(get_file_size(squeezenet_tflite_model_path), \"KB\")\n",
    "y_pred = lite_model_from_file_predicts_dataset(squeezenet_tflite_model_path, x_data_np, y_data_np)"
   ]
  },
  {
   "cell_type": "markdown",
   "metadata": {},
   "source": [
    "##### SqueezeNet tf Lite model + Post Training Dynamic range quantization"
   ]
  },
  {
   "cell_type": "code",
   "execution_count": 33,
   "metadata": {},
   "outputs": [
    {
     "name": "stdout",
     "output_type": "stream",
     "text": [
      "File size: 770.258 Kilobytes\n",
      "Accuracy: 98.56%\n",
      "Recall: 99.56%\n",
      "Precision: 96.20%\n",
      "F1-score: 97.85%\n"
     ]
    }
   ],
   "source": [
    "squeezenet_tflite_drq_model_path = 'spectrogram_models_from_notebooks/squeezenet/squeezenet_spec_16kHz_drq.tflite'\n",
    "convert_bytes(get_file_size(squeezenet_tflite_drq_model_path), \"KB\")\n",
    "y_pred = lite_model_from_file_predicts_dataset(squeezenet_tflite_drq_model_path, x_data_np, y_data_np)"
   ]
  },
  {
   "cell_type": "markdown",
   "metadata": {},
   "source": [
    "##### SqueezeNet tf Lite model + Float 16 quantization"
   ]
  },
  {
   "cell_type": "code",
   "execution_count": 34,
   "metadata": {},
   "outputs": [
    {
     "name": "stdout",
     "output_type": "stream",
     "text": [
      "File size: 1442.977 Kilobytes\n",
      "Accuracy: 98.56%\n",
      "Recall: 99.56%\n",
      "Precision: 96.20%\n",
      "F1-score: 97.85%\n"
     ]
    }
   ],
   "source": [
    "squeezenet_float16q_model_path = 'spectrogram_models_from_notebooks/squeezenet/squeezenet_spec_16kHz_float16q.tflite'\n",
    "convert_bytes(get_file_size(squeezenet_float16q_model_path), \"KB\")\n",
    "\n",
    "y_pred = lite_model_from_file_predicts_dataset(squeezenet_float16q_model_path, x_data_np, y_data_np)"
   ]
  },
  {
   "cell_type": "markdown",
   "metadata": {},
   "source": [
    "##### CNN tf Lite model + Full integer quantization"
   ]
  },
  {
   "cell_type": "code",
   "execution_count": 14,
   "metadata": {},
   "outputs": [
    {
     "name": "stdout",
     "output_type": "stream",
     "text": [
      "File size: 807.539 Kilobytes\n",
      "Accuracy: 98.21%\n",
      "Recall: 97.82%\n",
      "Precision: 96.76%\n",
      "F1-score: 97.29%\n"
     ]
    }
   ],
   "source": [
    "squeezenet_full_int_q_model_path = 'spectrogram_models_from_notebooks/squeezenet/squeezenet_spec_16kHz_full_int_q.tflite'\n",
    "convert_bytes(get_file_size(squeezenet_full_int_q_model_path), \"KB\")\n",
    "\n",
    "y_pred = full_int_model_predict(squeezenet_full_int_q_model_path, x_data_np)\n",
    "evaluate_prediction(y_data_np, y_pred)"
   ]
  },
  {
   "cell_type": "code",
   "execution_count": null,
   "metadata": {},
   "outputs": [],
   "source": []
  }
 ],
 "metadata": {
  "kernelspec": {
   "display_name": "ag14",
   "language": "python",
   "name": "python3"
  },
  "language_info": {
   "codemirror_mode": {
    "name": "ipython",
    "version": 3
   },
   "file_extension": ".py",
   "mimetype": "text/x-python",
   "name": "python",
   "nbconvert_exporter": "python",
   "pygments_lexer": "ipython3",
   "version": "3.9.19"
  }
 },
 "nbformat": 4,
 "nbformat_minor": 2
}
