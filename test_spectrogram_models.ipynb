{
 "cells": [
  {
   "cell_type": "code",
   "execution_count": 4,
   "metadata": {},
   "outputs": [
    {
     "name": "stdout",
     "output_type": "stream",
     "text": [
      "The autoreload extension is already loaded. To reload it, use:\n",
      "  %reload_ext autoreload\n"
     ]
    }
   ],
   "source": [
    "%load_ext autoreload\n",
    "%autoreload 2"
   ]
  },
  {
   "cell_type": "code",
   "execution_count": 5,
   "metadata": {},
   "outputs": [],
   "source": [
    "import tensorflow as tf\n",
    "import os\n",
    "import numpy as np\n",
    "import tensorflow_io as tfio\n",
    "\n",
    "from helper_functions import (\n",
    "    create_spectrogram_features,\n",
    "    lite_model_from_file_predicts_dataset,\n",
    "    get_file_size, \n",
    "    convert_bytes,\n",
    "    evaluate_prediction,\n",
    ")\n",
    "\n",
    "\n",
    "from sklearn.metrics import confusion_matrix"
   ]
  },
  {
   "cell_type": "code",
   "execution_count": 6,
   "metadata": {},
   "outputs": [],
   "source": [
    "desired_length_of_audio = 48000\n",
    "sample_rate = 16000"
   ]
  },
  {
   "cell_type": "code",
   "execution_count": 13,
   "metadata": {},
   "outputs": [],
   "source": [
    "# Take all audio from testing dataset and create spectrograms from them\n",
    "# We will use spectrograms for models testing\n",
    "directory = 'dataset/testing'\n",
    "\n",
    "x_data = []\n",
    "y_data = []\n",
    "for root, dirs, files in os.walk(directory):\n",
    "    for file in files:\n",
    "        full_file_name = os.path.join(root, file)\n",
    "\n",
    "        if \"non_target\" in str(full_file_name):\n",
    "            class_encoded = 0\n",
    "        elif \"target\" in str(full_file_name):\n",
    "            class_encoded = 1\n",
    "\n",
    "        audio, sr = tf.audio.decode_wav(tf.io.read_file(full_file_name))\n",
    "        audio = tf.squeeze(audio, axis=-1)\n",
    "        resampled_audio = tfio.audio.resample(audio, rate_in=48000, rate_out=sample_rate)\n",
    "        # Prepare log mel spectrogram from audio\n",
    "        spectrogram_feature = create_spectrogram_features(resampled_audio, desired_length=48000, sample_rate = 16000)\n",
    "        x_data.append(spectrogram_feature)\n",
    "        y_data.append(class_encoded)\n",
    "\n",
    "# input data should be in numpy array, not in list\n",
    "x_data_np = np.array(x_data)\n",
    "y_data_np = np.array(y_data)"
   ]
  },
  {
   "cell_type": "code",
   "execution_count": 14,
   "metadata": {},
   "outputs": [
    {
     "name": "stdout",
     "output_type": "stream",
     "text": [
      "(184, 80, 1)\n"
     ]
    }
   ],
   "source": [
    "for i in x_data_np:\n",
    "    print(i.shape)\n",
    "    break"
   ]
  },
  {
   "cell_type": "markdown",
   "metadata": {},
   "source": [
    "### CNN"
   ]
  },
  {
   "cell_type": "markdown",
   "metadata": {},
   "source": [
    "##### CNN initial model in keras format"
   ]
  },
  {
   "cell_type": "code",
   "execution_count": 15,
   "metadata": {},
   "outputs": [
    {
     "name": "stdout",
     "output_type": "stream",
     "text": [
      "File size: 335.824 Kilobytes\n"
     ]
    }
   ],
   "source": [
    "cnn_initial_model_path = 'spectrogram_models_from_notebooks/cnn/cnn_mel_spec_16kHz_baseline.keras'\n",
    "convert_bytes(get_file_size(cnn_initial_model_path), \"KB\")"
   ]
  },
  {
   "cell_type": "code",
   "execution_count": 16,
   "metadata": {},
   "outputs": [
    {
     "name": "stdout",
     "output_type": "stream",
     "text": [
      "Accuracy: 98.99%\n",
      "Recall: 99.13%\n",
      "Precision: 97.84%\n",
      "F1-score: 98.48%\n"
     ]
    }
   ],
   "source": [
    "cnn_initial_model = tf.keras.models.load_model(cnn_initial_model_path)\n",
    "# input data should be in numpy array\n",
    "y_pred_prob = cnn_initial_model.predict(x_data_np, verbose=0)\n",
    "y_pred = tf.argmax(y_pred_prob, axis=1).numpy()\n",
    "\n",
    "# Evaluate\n",
    "evaluate_prediction(y_data_np, y_pred)"
   ]
  },
  {
   "cell_type": "markdown",
   "metadata": {},
   "source": [
    "##### CNN tf Lite model (without any additional quantization techniques)"
   ]
  },
  {
   "cell_type": "code",
   "execution_count": 19,
   "metadata": {},
   "outputs": [
    {
     "name": "stdout",
     "output_type": "stream",
     "text": [
      "File size: 103.684 Kilobytes\n",
      "Accuracy: 98.99%\n",
      "Recall: 99.13%\n",
      "Precision: 97.84%\n",
      "F1-score: 98.48%\n"
     ]
    }
   ],
   "source": [
    "cnn_tflite_model_path = 'spectrogram_models_from_notebooks/cnn/cnn_mel_spec_16kHz.tflite'\n",
    "convert_bytes(get_file_size(cnn_tflite_model_path), \"KB\")\n",
    "\n",
    "y_pred = lite_model_from_file_predicts_dataset(cnn_tflite_model_path, x_data_np, y_data_np)"
   ]
  },
  {
   "cell_type": "markdown",
   "metadata": {},
   "source": [
    "##### CNN tf Lite model + Post Training Dynamic range quantization"
   ]
  },
  {
   "cell_type": "code",
   "execution_count": 20,
   "metadata": {},
   "outputs": [
    {
     "name": "stdout",
     "output_type": "stream",
     "text": [
      "File size: 29.508 Kilobytes\n",
      "Accuracy: 98.99%\n",
      "Recall: 99.13%\n",
      "Precision: 97.84%\n",
      "F1-score: 98.48%\n"
     ]
    }
   ],
   "source": [
    "cnn_drq_model_path = 'spectrogram_models_from_notebooks/cnn/cnn_mel_spec_16kHz_drq.tflite'\n",
    "convert_bytes(get_file_size(cnn_drq_model_path), \"KB\")\n",
    "\n",
    "y_pred = lite_model_from_file_predicts_dataset(cnn_drq_model_path, x_data_np, y_data_np)"
   ]
  },
  {
   "cell_type": "markdown",
   "metadata": {},
   "source": [
    "##### CNN tf Lite model + Float 16 quantization"
   ]
  },
  {
   "cell_type": "code",
   "execution_count": 29,
   "metadata": {},
   "outputs": [
    {
     "name": "stdout",
     "output_type": "stream",
     "text": [
      "File size: 54.879 Kilobytes\n",
      "Accuracy: 98.99%\n",
      "Recall: 99.13%\n",
      "Precision: 97.84%\n",
      "F1-score: 98.48%\n"
     ]
    }
   ],
   "source": [
    "cnn_float16q_model_path = 'spectrogram_models_from_notebooks/cnn/cnn_mel_spec_16KHz_float16q.tflite'\n",
    "convert_bytes(get_file_size(cnn_float16q_model_path), \"KB\")\n",
    "\n",
    "y_pred = lite_model_from_file_predicts_dataset(cnn_float16q_model_path, x_data_np, y_data_np)"
   ]
  },
  {
   "cell_type": "markdown",
   "metadata": {},
   "source": [
    "##### CNN tf Lite model + Full integer quantization"
   ]
  },
  {
   "cell_type": "code",
   "execution_count": 24,
   "metadata": {},
   "outputs": [
    {
     "name": "stdout",
     "output_type": "stream",
     "text": [
      "File size: 29.898 Kilobytes\n",
      "Accuracy: 67.12%\n",
      "Recall: 0.00%\n",
      "Precision: 0.00%\n",
      "F1-score: 0.00%\n"
     ]
    },
    {
     "name": "stderr",
     "output_type": "stream",
     "text": [
      "/home/polina/test/venv/lib/python3.9/site-packages/sklearn/metrics/_classification.py:1517: UndefinedMetricWarning: Precision is ill-defined and being set to 0.0 due to no predicted samples. Use `zero_division` parameter to control this behavior.\n",
      "  _warn_prf(average, modifier, f\"{metric.capitalize()} is\", len(result))\n"
     ]
    }
   ],
   "source": [
    "cnn_full_int_q_model_path = 'spectrogram_models_from_notebooks/cnn/cnn_mel_spec_16kHz_full_int_q.tflite'\n",
    "convert_bytes(get_file_size(cnn_full_int_q_model_path), \"KB\")\n",
    "\n",
    "y_pred = lite_model_from_file_predicts_dataset(cnn_full_int_q_model_path, x_data_np, y_data_np, input_data_uint8_type=True)"
   ]
  },
  {
   "cell_type": "markdown",
   "metadata": {},
   "source": [
    "### SqueezeNet"
   ]
  },
  {
   "cell_type": "markdown",
   "metadata": {},
   "source": [
    "##### SqueezeNet initial model in keras format"
   ]
  },
  {
   "cell_type": "code",
   "execution_count": 30,
   "metadata": {},
   "outputs": [
    {
     "name": "stdout",
     "output_type": "stream",
     "text": [
      "File size: 8687.448 Kilobytes\n"
     ]
    }
   ],
   "source": [
    "squeezenet_initial_model_path = 'spectrogram_models_from_notebooks/squeezenet/squeezenet_spec_16kHz_baseline.keras'\n",
    "convert_bytes(get_file_size(squeezenet_initial_model_path), \"KB\")"
   ]
  },
  {
   "cell_type": "code",
   "execution_count": 31,
   "metadata": {},
   "outputs": [
    {
     "name": "stdout",
     "output_type": "stream",
     "text": [
      "Accuracy: 98.56%\n",
      "Recall: 99.56%\n",
      "Precision: 96.20%\n",
      "F1-score: 97.85%\n"
     ]
    }
   ],
   "source": [
    "squeezenet_initial_model = tf.keras.models.load_model(squeezenet_initial_model_path)\n",
    "# input data should be in numpy array\n",
    "y_pred_prob = squeezenet_initial_model.predict(x_data_np, verbose=0)\n",
    "y_pred = tf.argmax(y_pred_prob, axis=1).numpy()\n",
    "\n",
    "# Evaluate\n",
    "evaluate_prediction(y_data_np, y_pred)"
   ]
  },
  {
   "cell_type": "markdown",
   "metadata": {},
   "source": [
    "##### SqueezeNet tf Lite model (without any additional quantization techniques)"
   ]
  },
  {
   "cell_type": "code",
   "execution_count": 32,
   "metadata": {},
   "outputs": [
    {
     "name": "stdout",
     "output_type": "stream",
     "text": [
      "File size: 2856.07 Kilobytes\n",
      "Accuracy: 98.56%\n",
      "Recall: 99.56%\n",
      "Precision: 96.20%\n",
      "F1-score: 97.85%\n"
     ]
    }
   ],
   "source": [
    "squeezenet_tflite_model_path = 'spectrogram_models_from_notebooks/squeezenet/squeezenet_spec_16kHz.tflite'\n",
    "convert_bytes(get_file_size(squeezenet_tflite_model_path), \"KB\")\n",
    "y_pred = lite_model_from_file_predicts_dataset(squeezenet_tflite_model_path, x_data_np, y_data_np)"
   ]
  },
  {
   "cell_type": "markdown",
   "metadata": {},
   "source": [
    "##### SqueezeNet tf Lite model + Post Training Dynamic range quantization"
   ]
  },
  {
   "cell_type": "code",
   "execution_count": 33,
   "metadata": {},
   "outputs": [
    {
     "name": "stdout",
     "output_type": "stream",
     "text": [
      "File size: 770.258 Kilobytes\n",
      "Accuracy: 98.56%\n",
      "Recall: 99.56%\n",
      "Precision: 96.20%\n",
      "F1-score: 97.85%\n"
     ]
    }
   ],
   "source": [
    "squeezenet_tflite_drq_model_path = 'spectrogram_models_from_notebooks/squeezenet/squeezenet_spec_16kHz_drq.tflite'\n",
    "convert_bytes(get_file_size(squeezenet_tflite_drq_model_path), \"KB\")\n",
    "y_pred = lite_model_from_file_predicts_dataset(squeezenet_tflite_drq_model_path, x_data_np, y_data_np)"
   ]
  },
  {
   "cell_type": "markdown",
   "metadata": {},
   "source": [
    "##### SqueezeNet tf Lite model + Float 16 quantization"
   ]
  },
  {
   "cell_type": "code",
   "execution_count": 34,
   "metadata": {},
   "outputs": [
    {
     "name": "stdout",
     "output_type": "stream",
     "text": [
      "File size: 1442.977 Kilobytes\n",
      "Accuracy: 98.56%\n",
      "Recall: 99.56%\n",
      "Precision: 96.20%\n",
      "F1-score: 97.85%\n"
     ]
    }
   ],
   "source": [
    "squeezenet_float16q_model_path = 'spectrogram_models_from_notebooks/squeezenet/squeezenet_spec_16kHz_float16q.tflite'\n",
    "convert_bytes(get_file_size(squeezenet_float16q_model_path), \"KB\")\n",
    "\n",
    "y_pred = lite_model_from_file_predicts_dataset(squeezenet_float16q_model_path, x_data_np, y_data_np)"
   ]
  },
  {
   "cell_type": "markdown",
   "metadata": {},
   "source": [
    "##### CNN tf Lite model + Full integer quantization"
   ]
  },
  {
   "cell_type": "code",
   "execution_count": 35,
   "metadata": {},
   "outputs": [
    {
     "name": "stdout",
     "output_type": "stream",
     "text": [
      "File size: 807.539 Kilobytes\n",
      "Accuracy: 67.12%\n",
      "Recall: 0.00%\n",
      "Precision: 0.00%\n",
      "F1-score: 0.00%\n"
     ]
    },
    {
     "name": "stderr",
     "output_type": "stream",
     "text": [
      "/home/polina/test/venv/lib/python3.9/site-packages/sklearn/metrics/_classification.py:1517: UndefinedMetricWarning: Precision is ill-defined and being set to 0.0 due to no predicted samples. Use `zero_division` parameter to control this behavior.\n",
      "  _warn_prf(average, modifier, f\"{metric.capitalize()} is\", len(result))\n"
     ]
    }
   ],
   "source": [
    "squeezenet_full_int_q_model_path = 'spectrogram_models_from_notebooks/squeezenet/squeezenet_spec_16kHz_full_int_q.tflite'\n",
    "convert_bytes(get_file_size(squeezenet_full_int_q_model_path), \"KB\")\n",
    "\n",
    "y_pred = lite_model_from_file_predicts_dataset(squeezenet_full_int_q_model_path, x_data_np, y_data_np, input_data_uint8_type=True)"
   ]
  }
 ],
 "metadata": {
  "kernelspec": {
   "display_name": "ag14",
   "language": "python",
   "name": "python3"
  },
  "language_info": {
   "codemirror_mode": {
    "name": "ipython",
    "version": 3
   },
   "file_extension": ".py",
   "mimetype": "text/x-python",
   "name": "python",
   "nbconvert_exporter": "python",
   "pygments_lexer": "ipython3",
   "version": "3.9.19"
  }
 },
 "nbformat": 4,
 "nbformat_minor": 2
}
