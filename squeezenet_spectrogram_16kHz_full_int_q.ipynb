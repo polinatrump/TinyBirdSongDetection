{
 "cells": [
  {
   "cell_type": "code",
   "execution_count": 1,
   "metadata": {},
   "outputs": [],
   "source": [
    "%load_ext autoreload\n",
    "%autoreload 2"
   ]
  },
  {
   "cell_type": "code",
   "execution_count": 2,
   "metadata": {},
   "outputs": [
    {
     "name": "stderr",
     "output_type": "stream",
     "text": [
      "2024-06-20 11:21:25.417957: I external/local_tsl/tsl/cuda/cudart_stub.cc:31] Could not find cuda drivers on your machine, GPU will not be used.\n",
      "2024-06-20 11:21:25.457024: E external/local_xla/xla/stream_executor/cuda/cuda_dnn.cc:9261] Unable to register cuDNN factory: Attempting to register factory for plugin cuDNN when one has already been registered\n",
      "2024-06-20 11:21:25.457050: E external/local_xla/xla/stream_executor/cuda/cuda_fft.cc:607] Unable to register cuFFT factory: Attempting to register factory for plugin cuFFT when one has already been registered\n",
      "2024-06-20 11:21:25.457901: E external/local_xla/xla/stream_executor/cuda/cuda_blas.cc:1515] Unable to register cuBLAS factory: Attempting to register factory for plugin cuBLAS when one has already been registered\n",
      "2024-06-20 11:21:25.463167: I external/local_tsl/tsl/cuda/cudart_stub.cc:31] Could not find cuda drivers on your machine, GPU will not be used.\n",
      "2024-06-20 11:21:25.463931: I tensorflow/core/platform/cpu_feature_guard.cc:182] This TensorFlow binary is optimized to use available CPU instructions in performance-critical operations.\n",
      "To enable the following instructions: AVX2 FMA, in other operations, rebuild TensorFlow with the appropriate compiler flags.\n",
      "2024-06-20 11:21:26.366387: W tensorflow/compiler/tf2tensorrt/utils/py_utils.cc:38] TF-TRT Warning: Could not find TensorRT\n"
     ]
    }
   ],
   "source": [
    "import tensorflow as tf\n",
    "import numpy as np\n",
    "from tensorflow import keras\n",
    "from sklearn.metrics import f1_score\n",
    "import time\n",
    "import random\n",
    "tf.random.set_seed(3407)\n",
    "np.random.seed(3407)\n",
    "random.seed(3407)\n",
    "\n",
    "from create_spectrogram_and_time_series_dataset_use import (\n",
    "    create_spectrograms_from_audio_dataset, \n",
    ")\n",
    "from helper_functions import (\n",
    "    evaluate_prediction,\n",
    "    get_file_size, \n",
    "    convert_bytes, \n",
    "    convert_prefetchdataset_to_numpy_arrays,\n",
    "    predict_and_print_full_results,\n",
    "    full_int_model_predict,\n",
    "    get_f1_scores_of_non_overlapping_partitions_full_int_q,\n",
    "    get_f1_scores_of_bootstarping_partitions_full_int_q,\n",
    "    )"
   ]
  },
  {
   "cell_type": "code",
   "execution_count": 3,
   "metadata": {},
   "outputs": [],
   "source": [
    "sample_rate = 16000"
   ]
  },
  {
   "cell_type": "code",
   "execution_count": 4,
   "metadata": {},
   "outputs": [
    {
     "name": "stdout",
     "output_type": "stream",
     "text": [
      "Found 11292 files belonging to 2 classes.\n"
     ]
    },
    {
     "name": "stderr",
     "output_type": "stream",
     "text": [
      "2024-06-20 11:21:28.525247: I external/local_xla/xla/stream_executor/cuda/cuda_executor.cc:887] could not open file to read NUMA node: /sys/bus/pci/devices/0000:01:00.0/numa_node\n",
      "Your kernel may have been built without NUMA support.\n",
      "2024-06-20 11:21:28.525630: W tensorflow/core/common_runtime/gpu/gpu_device.cc:2256] Cannot dlopen some GPU libraries. Please make sure the missing libraries mentioned above are installed properly if you would like to use GPU. Follow the guide at https://www.tensorflow.org/install/gpu for how to download and setup the required libraries for your platform.\n",
      "Skipping registering GPU devices...\n",
      "2024-06-20 11:21:28.616978: I tensorflow_io/core/kernels/cpu_check.cc:128] Your CPU supports instructions that this TensorFlow IO binary was not compiled to use: SSE3 SSE4.1 SSE4.2 AVX AVX2 FMA\n",
      "2024-06-20 11:21:28.620449: W tensorflow_io/core/kernels/audio_video_mp3_kernels.cc:271] libmp3lame.so.0 or lame functions are not available\n"
     ]
    },
    {
     "name": "stdout",
     "output_type": "stream",
     "text": [
      "WARNING:tensorflow:Using a while_loop for converting IO>AudioResample cause there is no registered converter for this op.\n",
      "Found 1393 files belonging to 2 classes.\n",
      "WARNING:tensorflow:Using a while_loop for converting IO>AudioResample cause there is no registered converter for this op.\n",
      "Found 1380 files belonging to 2 classes.\n",
      "WARNING:tensorflow:Using a while_loop for converting IO>AudioResample cause there is no registered converter for this op.\n",
      "Classes:  ['non_target' 'target']\n"
     ]
    }
   ],
   "source": [
    "train_dataset = tf.keras.utils.audio_dataset_from_directory(\"dataset/training\", labels='inferred', sampling_rate=16000, batch_size=32, shuffle=True, seed=3407)\n",
    "test_dataset = tf.keras.utils.audio_dataset_from_directory(\"dataset/testing\", labels='inferred', sampling_rate=16000, batch_size=32, shuffle=True, seed=3407)\n",
    "val_dataset = tf.keras.utils.audio_dataset_from_directory(\"dataset/validation\", labels='inferred', sampling_rate=16000, batch_size=32, shuffle=True, seed=3407)\n",
    "\n",
    "label_names = np.array(test_dataset.class_names)\n",
    "print(\"Classes: \", label_names)"
   ]
  },
  {
   "cell_type": "code",
   "execution_count": 5,
   "metadata": {},
   "outputs": [],
   "source": [
    "train_spectrogram_ds = create_spectrograms_from_audio_dataset(train_dataset, sample_rate = sample_rate).cache().prefetch(tf.data.AUTOTUNE)\n",
    "test_spectrogram_ds = create_spectrograms_from_audio_dataset(test_dataset, sample_rate = sample_rate).cache().prefetch(tf.data.AUTOTUNE)\n",
    "val_spectrogram_ds = create_spectrograms_from_audio_dataset(val_dataset, sample_rate = sample_rate).cache().prefetch(tf.data.AUTOTUNE)\n",
    "\n",
    "x_train_np, y_train_np = convert_prefetchdataset_to_numpy_arrays(train_spectrogram_ds)\n",
    "x_val_np, y_val_np = convert_prefetchdataset_to_numpy_arrays(val_spectrogram_ds)\n",
    "x_test_np, y_test_np = convert_prefetchdataset_to_numpy_arrays(test_spectrogram_ds)"
   ]
  },
  {
   "cell_type": "code",
   "execution_count": 8,
   "metadata": {},
   "outputs": [
    {
     "name": "stdout",
     "output_type": "stream",
     "text": [
      "Model: \"model\"\n",
      "__________________________________________________________________________________________________\n",
      " Layer (type)                Output Shape                 Param #   Connected to                  \n",
      "==================================================================================================\n",
      " input_1 (InputLayer)        [(None, 184, 80, 1)]         0         []                            \n",
      "                                                                                                  \n",
      " conv1 (Conv2D)              (None, 92, 40, 96)           4800      ['input_1[0][0]']             \n",
      "                                                                                                  \n",
      " maxpool1 (MaxPooling2D)     (None, 45, 19, 96)           0         ['conv1[0][0]']               \n",
      "                                                                                                  \n",
      " fire2_squeeze (Conv2D)      (None, 45, 19, 16)           1552      ['maxpool1[0][0]']            \n",
      "                                                                                                  \n",
      " fire2_expand_1x1 (Conv2D)   (None, 45, 19, 64)           1088      ['fire2_squeeze[0][0]']       \n",
      "                                                                                                  \n",
      " fire2_expand_3x3 (Conv2D)   (None, 45, 19, 64)           9280      ['fire2_squeeze[0][0]']       \n",
      "                                                                                                  \n",
      " fire2_concatenate (Concate  (None, 45, 19, 128)          0         ['fire2_expand_1x1[0][0]',    \n",
      " nate)                                                               'fire2_expand_3x3[0][0]']    \n",
      "                                                                                                  \n",
      " fire3_squeeze (Conv2D)      (None, 45, 19, 16)           2064      ['fire2_concatenate[0][0]']   \n",
      "                                                                                                  \n",
      " fire3_expand_1x1 (Conv2D)   (None, 45, 19, 64)           1088      ['fire3_squeeze[0][0]']       \n",
      "                                                                                                  \n",
      " fire3_expand_3x3 (Conv2D)   (None, 45, 19, 64)           9280      ['fire3_squeeze[0][0]']       \n",
      "                                                                                                  \n",
      " fire3_concatenate (Concate  (None, 45, 19, 128)          0         ['fire3_expand_1x1[0][0]',    \n",
      " nate)                                                               'fire3_expand_3x3[0][0]']    \n",
      "                                                                                                  \n",
      " fire4_squeeze (Conv2D)      (None, 45, 19, 32)           4128      ['fire3_concatenate[0][0]']   \n",
      "                                                                                                  \n",
      " fire4_expand_1x1 (Conv2D)   (None, 45, 19, 128)          4224      ['fire4_squeeze[0][0]']       \n",
      "                                                                                                  \n",
      " fire4_expand_3x3 (Conv2D)   (None, 45, 19, 128)          36992     ['fire4_squeeze[0][0]']       \n",
      "                                                                                                  \n",
      " fire4_concatenate (Concate  (None, 45, 19, 256)          0         ['fire4_expand_1x1[0][0]',    \n",
      " nate)                                                               'fire4_expand_3x3[0][0]']    \n",
      "                                                                                                  \n",
      " maxpool4 (MaxPooling2D)     (None, 22, 9, 256)           0         ['fire4_concatenate[0][0]']   \n",
      "                                                                                                  \n",
      " fire5_squeeze (Conv2D)      (None, 22, 9, 32)            8224      ['maxpool4[0][0]']            \n",
      "                                                                                                  \n",
      " fire5_expand_1x1 (Conv2D)   (None, 22, 9, 128)           4224      ['fire5_squeeze[0][0]']       \n",
      "                                                                                                  \n",
      " fire5_expand_3x3 (Conv2D)   (None, 22, 9, 128)           36992     ['fire5_squeeze[0][0]']       \n",
      "                                                                                                  \n",
      " fire5_concatenate (Concate  (None, 22, 9, 256)           0         ['fire5_expand_1x1[0][0]',    \n",
      " nate)                                                               'fire5_expand_3x3[0][0]']    \n",
      "                                                                                                  \n",
      " fire6_squeeze (Conv2D)      (None, 22, 9, 48)            12336     ['fire5_concatenate[0][0]']   \n",
      "                                                                                                  \n",
      " fire6_expand_1x1 (Conv2D)   (None, 22, 9, 192)           9408      ['fire6_squeeze[0][0]']       \n",
      "                                                                                                  \n",
      " fire6_expand_3x3 (Conv2D)   (None, 22, 9, 192)           83136     ['fire6_squeeze[0][0]']       \n",
      "                                                                                                  \n",
      " fire6_concatenate (Concate  (None, 22, 9, 384)           0         ['fire6_expand_1x1[0][0]',    \n",
      " nate)                                                               'fire6_expand_3x3[0][0]']    \n",
      "                                                                                                  \n",
      " fire7_squeeze (Conv2D)      (None, 22, 9, 48)            18480     ['fire6_concatenate[0][0]']   \n",
      "                                                                                                  \n",
      " fire7_expand_1x1 (Conv2D)   (None, 22, 9, 192)           9408      ['fire7_squeeze[0][0]']       \n",
      "                                                                                                  \n",
      " fire7_expand_3x3 (Conv2D)   (None, 22, 9, 192)           83136     ['fire7_squeeze[0][0]']       \n",
      "                                                                                                  \n",
      " fire7_concatenate (Concate  (None, 22, 9, 384)           0         ['fire7_expand_1x1[0][0]',    \n",
      " nate)                                                               'fire7_expand_3x3[0][0]']    \n",
      "                                                                                                  \n",
      " fire8_squeeze (Conv2D)      (None, 22, 9, 64)            24640     ['fire7_concatenate[0][0]']   \n",
      "                                                                                                  \n",
      " fire8_expand_1x1 (Conv2D)   (None, 22, 9, 256)           16640     ['fire8_squeeze[0][0]']       \n",
      "                                                                                                  \n",
      " fire8_expand_3x3 (Conv2D)   (None, 22, 9, 256)           147712    ['fire8_squeeze[0][0]']       \n",
      "                                                                                                  \n",
      " fire8_concatenate (Concate  (None, 22, 9, 512)           0         ['fire8_expand_1x1[0][0]',    \n",
      " nate)                                                               'fire8_expand_3x3[0][0]']    \n",
      "                                                                                                  \n",
      " maxpool8 (MaxPooling2D)     (None, 10, 4, 512)           0         ['fire8_concatenate[0][0]']   \n",
      "                                                                                                  \n",
      " fire9_squeeze (Conv2D)      (None, 10, 4, 64)            32832     ['maxpool8[0][0]']            \n",
      "                                                                                                  \n",
      " fire9_expand_1x1 (Conv2D)   (None, 10, 4, 256)           16640     ['fire9_squeeze[0][0]']       \n",
      "                                                                                                  \n",
      " fire9_expand_3x3 (Conv2D)   (None, 10, 4, 256)           147712    ['fire9_squeeze[0][0]']       \n",
      "                                                                                                  \n",
      " fire9_concatenate (Concate  (None, 10, 4, 512)           0         ['fire9_expand_1x1[0][0]',    \n",
      " nate)                                                               'fire9_expand_3x3[0][0]']    \n",
      "                                                                                                  \n",
      " conv10 (Conv2D)             (None, 10, 4, 2)             1026      ['fire9_concatenate[0][0]']   \n",
      "                                                                                                  \n",
      " avgpool10 (GlobalAveragePo  (None, 2)                    0         ['conv10[0][0]']              \n",
      " oling2D)                                                                                         \n",
      "                                                                                                  \n",
      " softmax (Activation)        (None, 2)                    0         ['avgpool10[0][0]']           \n",
      "                                                                                                  \n",
      "==================================================================================================\n",
      "Total params: 727042 (2.77 MB)\n",
      "Trainable params: 727042 (2.77 MB)\n",
      "Non-trainable params: 0 (0.00 Byte)\n",
      "__________________________________________________________________________________________________\n",
      "File size: 8.484 Megabytes\n"
     ]
    }
   ],
   "source": [
    "BASE_MODEL_FILE_NAME = \"spectrogram_models_from_notebooks/squeezenet/squeezenet_spec_16kHz_baseline.keras\"\n",
    "baseline_model = tf.keras.models.load_model(BASE_MODEL_FILE_NAME)\n",
    "baseline_model.summary()\n",
    "convert_bytes(get_file_size(BASE_MODEL_FILE_NAME), \"MB\")"
   ]
  },
  {
   "cell_type": "code",
   "execution_count": 9,
   "metadata": {},
   "outputs": [
    {
     "name": "stdout",
     "output_type": "stream",
     "text": [
      "Validation dataset:\n",
      "44/44 [==============================] - 4s 78ms/step\n",
      "Basic assessment of the whole dataset (without any partitions):\n",
      "Accuracy: 98.77%\n",
      "Recall: 99.36%\n",
      "Precision: 97.10%\n",
      "F1-score: 98.22%\n",
      "\n",
      "Devide dataset into 10 non-overlapping patritions and get their mean F1-score\n",
      "Non-overlap mean F1-score:  0.9821834731737121\n",
      "\n",
      "Get 100 bootstrap samples from dataset with 100 samples each and get their mean F1-score\n",
      "Bootstrap mean F1-score:  0.9809484989817016\n",
      "\n",
      "Test dataset:\n",
      "44/44 [==============================] - 4s 86ms/step\n",
      "Basic assessment of the whole dataset (without any partitions):\n",
      "Accuracy: 98.56%\n",
      "Recall: 99.56%\n",
      "Precision: 96.20%\n",
      "F1-score: 97.85%\n",
      "\n",
      "Devide dataset into 10 non-overlapping patritions and get their mean F1-score\n",
      "Non-overlap mean F1-score:  0.9778618945971255\n",
      "\n",
      "Get 100 bootstrap samples from dataset with 100 samples each and get their mean F1-score\n",
      "Bootstrap mean F1-score:  0.9777210510822794\n"
     ]
    }
   ],
   "source": [
    "print(\"Validation dataset:\")\n",
    "(\n",
    "    y_pred_val, \n",
    "    non_overlap_patritions_f1_scores_val, \n",
    "    bootstrap_patritions_f1_scores_val,\n",
    ") = predict_and_print_full_results(baseline_model, x_val_np, y_val_np, model_format=\"keras\")\n",
    "\n",
    "print(\"\\nTest dataset:\")\n",
    "(\n",
    "    y_pred_test, \n",
    "    non_overlap_patritions_f1_scores_test, \n",
    "    bootstrap_patritions_f1_scores_test,\n",
    ") = predict_and_print_full_results(baseline_model, x_test_np, y_test_np, model_format=\"keras\")"
   ]
  },
  {
   "cell_type": "code",
   "execution_count": 10,
   "metadata": {},
   "outputs": [],
   "source": [
    "import logging\n",
    "logging.getLogger(\"tensorflow\").setLevel(logging.DEBUG)\n",
    "\n",
    "import tensorflow as tf\n",
    "import numpy as np"
   ]
  },
  {
   "cell_type": "code",
   "execution_count": 11,
   "metadata": {},
   "outputs": [
    {
     "name": "stdout",
     "output_type": "stream",
     "text": [
      "(184, 80, 1)\n"
     ]
    }
   ],
   "source": [
    "for i in x_val_np:\n",
    "    print(i.shape)\n",
    "    break\n",
    "    "
   ]
  },
  {
   "cell_type": "code",
   "execution_count": 12,
   "metadata": {},
   "outputs": [
    {
     "name": "stdout",
     "output_type": "stream",
     "text": [
      "INFO:tensorflow:Assets written to: /tmp/tmpsn0_u3f8/assets\n"
     ]
    },
    {
     "name": "stderr",
     "output_type": "stream",
     "text": [
      "INFO:tensorflow:Assets written to: /tmp/tmpsn0_u3f8/assets\n",
      "/home/polina/newname/venv/lib/python3.9/site-packages/tensorflow/lite/python/convert.py:953: UserWarning: Statistics for quantized inputs were expected, but not specified; continuing anyway.\n",
      "  warnings.warn(\n",
      "2024-06-20 11:24:10.095875: W tensorflow/compiler/mlir/lite/python/tf_tfl_flatbuffer_helpers.cc:378] Ignored output_format.\n",
      "2024-06-20 11:24:10.095959: W tensorflow/compiler/mlir/lite/python/tf_tfl_flatbuffer_helpers.cc:381] Ignored drop_control_dependency.\n",
      "2024-06-20 11:24:10.096568: I tensorflow/cc/saved_model/reader.cc:83] Reading SavedModel from: /tmp/tmpsn0_u3f8\n",
      "2024-06-20 11:24:10.102673: I tensorflow/cc/saved_model/reader.cc:51] Reading meta graph with tags { serve }\n",
      "2024-06-20 11:24:10.102730: I tensorflow/cc/saved_model/reader.cc:146] Reading SavedModel debug info (if present) from: /tmp/tmpsn0_u3f8\n",
      "2024-06-20 11:24:10.117292: I tensorflow/compiler/mlir/mlir_graph_optimization_pass.cc:388] MLIR V1 optimization pass is not enabled\n",
      "2024-06-20 11:24:10.123456: I tensorflow/cc/saved_model/loader.cc:233] Restoring SavedModel bundle.\n",
      "2024-06-20 11:24:10.380125: I tensorflow/cc/saved_model/loader.cc:217] Running initialization op on SavedModel bundle at path: /tmp/tmpsn0_u3f8\n",
      "2024-06-20 11:24:10.454097: I tensorflow/cc/saved_model/loader.cc:316] SavedModel load for tags { serve }; Status: success: OK. Took 357544 microseconds.\n",
      "2024-06-20 11:24:10.515530: I tensorflow/compiler/mlir/tensorflow/utils/dump_mlir_util.cc:269] disabling MLIR crash reproducer, set env var `MLIR_CRASH_REPRODUCER_DIRECTORY` to enable.\n",
      "Summary on the non-converted ops:\n",
      "---------------------------------\n",
      " * Accepted dialects: tfl, builtin, func\n",
      " * Non-Converted Ops: 53, Total Ops 95, % non-converted = 55.79 %\n",
      " * 53 ARITH ops\n",
      "\n",
      "- arith.constant:   53 occurrences  (f32: 52, i32: 1)\n",
      "\n",
      "\n",
      "\n",
      "  (f32: 8)\n",
      "  (f32: 26)\n",
      "  (f32: 3)\n",
      "  (f32: 1)\n",
      "  (f32: 1)\n",
      "fully_quantize: 0, inference_type: 6, input_inference_type: UINT8, output_inference_type: UINT8\n"
     ]
    }
   ],
   "source": [
    "def representative_data_gen():\n",
    "  for input_value in tf.data.Dataset.from_tensor_slices(x_val_np).batch(1).take(100):\n",
    "    yield [input_value]\n",
    "\n",
    "full_int_converter = tf.lite.TFLiteConverter.from_keras_model(baseline_model)\n",
    "full_int_converter.optimizations = [tf.lite.Optimize.DEFAULT]\n",
    "full_int_converter.representative_dataset = representative_data_gen\n",
    "# Ensure that if any ops can't be quantized, the converter throws an error\n",
    "full_int_converter.target_spec.supported_ops = [tf.lite.OpsSet.TFLITE_BUILTINS_INT8]\n",
    "# Set the input and output tensors to uint8 (APIs added in r2.3)\n",
    "full_int_converter.inference_input_type = tf.uint8\n",
    "full_int_converter.inference_output_type = tf.uint8\n",
    "\n",
    "tflite_model_quant = full_int_converter.convert()"
   ]
  },
  {
   "cell_type": "code",
   "execution_count": 13,
   "metadata": {},
   "outputs": [
    {
     "name": "stdout",
     "output_type": "stream",
     "text": [
      "input:  <class 'numpy.uint8'>\n",
      "output:  <class 'numpy.uint8'>\n"
     ]
    }
   ],
   "source": [
    "interpreter = tf.lite.Interpreter(model_content=tflite_model_quant)\n",
    "input_type = interpreter.get_input_details()[0]['dtype']\n",
    "print('input: ', input_type)\n",
    "output_type = interpreter.get_output_details()[0]['dtype']\n",
    "print('output: ', output_type)"
   ]
  },
  {
   "cell_type": "code",
   "execution_count": 14,
   "metadata": {},
   "outputs": [
    {
     "data": {
      "text/plain": [
       "826920"
      ]
     },
     "execution_count": 14,
     "metadata": {},
     "output_type": "execute_result"
    }
   ],
   "source": [
    "import pathlib\n",
    "\n",
    "tflite_models_dir = pathlib.Path(\"spectrogram_models_from_notebooks/squeezenet\")\n",
    "tflite_models_dir.mkdir(exist_ok=True, parents=True)\n",
    "\n",
    "# Save the quantized model:\n",
    "tflite_model_quant_file = tflite_models_dir/\"squeezenet_spec_16kHz_full_int_q.tflite\"\n",
    "tflite_model_quant_file.write_bytes(tflite_model_quant)"
   ]
  },
  {
   "cell_type": "code",
   "execution_count": 15,
   "metadata": {},
   "outputs": [
    {
     "name": "stdout",
     "output_type": "stream",
     "text": [
      "Validation dataset:\n"
     ]
    },
    {
     "name": "stderr",
     "output_type": "stream",
     "text": [
      "INFO: Created TensorFlow Lite XNNPACK delegate for CPU.\n"
     ]
    },
    {
     "name": "stdout",
     "output_type": "stream",
     "text": [
      "Accuracy: 98.41%\n",
      "Recall: 97.25%\n",
      "Precision: 98.08%\n",
      "F1-score: 97.66%\n",
      "\n",
      "Devide dataset into 10 non-overlapping patritions and get their mean F1-score\n",
      "Non-overlap mean F1-score:  0.9760380311067124\n",
      "\n",
      "Get 100 bootstrap samples from dataset with 100 samples each and get their mean F1-score\n",
      "Bootstrap mean F1-score:  0.976840710931716\n",
      "\n",
      "Test dataset:\n",
      "Accuracy: 98.21%\n",
      "Recall: 97.82%\n",
      "Precision: 96.76%\n",
      "F1-score: 97.29%\n",
      "\n",
      "Devide dataset into 10 non-overlapping patritions and get their mean F1-score\n",
      "Non-overlap mean F1-score:  0.9722449161503498\n",
      "\n",
      "Get 100 bootstrap samples from dataset with 100 samples each and get their mean F1-score\n",
      "Bootstrap mean F1-score:  0.9773114137330187\n",
      "\n",
      "Time for Test dataset:\n",
      "\n",
      "Time to make a prediction for a single data point\n",
      "Mean: 0.01 seconds\n",
      "Max: 0.022 seconds\n",
      "Min: 0.009 seconds\n",
      "File size: 807.539 Kilobytes\n"
     ]
    }
   ],
   "source": [
    "print(\"Validation dataset:\")\n",
    "predictions = full_int_model_predict(tflite_model_quant_file, x_val_np)\n",
    "evaluate_prediction(y_val_np, predictions)\n",
    "\n",
    "print(\"\\nDevide dataset into 10 non-overlapping patritions and get their mean F1-score\")\n",
    "non_overlap_patritions_f1_scores = get_f1_scores_of_non_overlapping_partitions_full_int_q(tflite_model_quant_file, x_val_np, y_val_np)\n",
    "print(\"Non-overlap mean F1-score: \", np.mean(non_overlap_patritions_f1_scores))\n",
    "\n",
    "print(\"\\nGet 100 bootstrap samples from dataset with 100 samples each and get their mean F1-score\")\n",
    "bootstrap_patritions_f1_scores = get_f1_scores_of_bootstarping_partitions_full_int_q(tflite_model_quant_file, x_val_np, y_val_np)\n",
    "print(\"Bootstrap mean F1-score: \", np.mean(bootstrap_patritions_f1_scores))\n",
    "\n",
    "\n",
    "\n",
    "print(\"\\nTest dataset:\")\n",
    "predictions = full_int_model_predict(tflite_model_quant_file, x_test_np)\n",
    "evaluate_prediction(y_test_np, predictions)\n",
    "\n",
    "print(\"\\nDevide dataset into 10 non-overlapping patritions and get their mean F1-score\")\n",
    "non_overlap_patritions_f1_scores = get_f1_scores_of_non_overlapping_partitions_full_int_q(tflite_model_quant_file, x_test_np, y_test_np)\n",
    "print(\"Non-overlap mean F1-score: \", np.mean(non_overlap_patritions_f1_scores))\n",
    "\n",
    "print(\"\\nGet 100 bootstrap samples from dataset with 100 samples each and get their mean F1-score\")\n",
    "bootstrap_patritions_f1_scores = get_f1_scores_of_bootstarping_partitions_full_int_q(tflite_model_quant_file, x_test_np, y_test_np)\n",
    "print(\"Bootstrap mean F1-score: \", np.mean(bootstrap_patritions_f1_scores))\n",
    "\n",
    "print(\"\\nTime for Test dataset:\")\n",
    "time_data = []\n",
    "for data_point in x_test_np:\n",
    "    start_time = time.time()\n",
    "    predictions = full_int_model_predict(tflite_model_quant_file, [data_point])\n",
    "    elapsed_time = time.time() - start_time\n",
    "    time_data.append(elapsed_time)\n",
    "print(\"\\nTime to make a prediction for a single data point\")\n",
    "print(f\"Mean: {round(np.mean(time_data), 3)} seconds\")\n",
    "print(f\"Max: {round(np.max(time_data), 3)} seconds\")\n",
    "print(f\"Min: {round(np.min(time_data), 3)} seconds\")\n",
    "\n",
    "convert_bytes(get_file_size(tflite_model_quant_file), \"KB\")"
   ]
  },
  {
   "cell_type": "code",
   "execution_count": null,
   "metadata": {},
   "outputs": [],
   "source": []
  }
 ],
 "metadata": {
  "kernelspec": {
   "display_name": "venv",
   "language": "python",
   "name": "python3"
  },
  "language_info": {
   "codemirror_mode": {
    "name": "ipython",
    "version": 3
   },
   "file_extension": ".py",
   "mimetype": "text/x-python",
   "name": "python",
   "nbconvert_exporter": "python",
   "pygments_lexer": "ipython3",
   "version": "3.9.19"
  }
 },
 "nbformat": 4,
 "nbformat_minor": 2
}
