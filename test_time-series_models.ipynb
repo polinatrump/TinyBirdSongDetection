{
 "cells": [
  {
   "cell_type": "code",
   "execution_count": 1,
   "metadata": {},
   "outputs": [],
   "source": [
    "%load_ext autoreload\n",
    "%autoreload 2"
   ]
  },
  {
   "cell_type": "code",
   "execution_count": 16,
   "metadata": {},
   "outputs": [],
   "source": [
    "import tensorflow as tf\n",
    "import os\n",
    "import numpy as np\n",
    "import tensorflow_io as tfio\n",
    "\n",
    "from helper_functions import (\n",
    "    convert_prefetchdataset_to_numpy_arrays,\n",
    "    lite_model_from_file_predicts_dataset,\n",
    "    get_file_size, \n",
    "    convert_bytes,\n",
    "    evaluate_prediction,\n",
    ")\n",
    "\n",
    "\n",
    "from sklearn.metrics import confusion_matrix"
   ]
  },
  {
   "cell_type": "code",
   "execution_count": 17,
   "metadata": {},
   "outputs": [],
   "source": [
    "desired_length_of_audio = 48000\n",
    "sample_rate = 16000"
   ]
  },
  {
   "cell_type": "code",
   "execution_count": 62,
   "metadata": {},
   "outputs": [],
   "source": [
    "# Take all audio from testing dataset and create spectrograms from them\n",
    "# We will use spectrograms for models testing\n",
    "directory = 'dataset/testing'\n",
    "\n",
    "x_data = []\n",
    "y_data = []\n",
    "for root, dirs, files in os.walk(directory):\n",
    "    for file in files:\n",
    "        full_file_name = os.path.join(root, file)\n",
    "\n",
    "        if \"non_target\" in str(full_file_name):\n",
    "            class_encoded = 0\n",
    "        elif \"target\" in str(full_file_name):\n",
    "            class_encoded = 1\n",
    "\n",
    "        audio, sr = tf.audio.decode_wav(tf.io.read_file(full_file_name))\n",
    "        audio = tf.squeeze(audio, axis=-1)\n",
    "        resampled_audio = tfio.audio.resample(audio, rate_in=48000, rate_out=sample_rate)\n",
    "        audio_length = tf.shape(resampled_audio)[0]\n",
    "        if audio_length < desired_length_of_audio:\n",
    "            resampled_audio = tf.pad(resampled_audio, [[0, desired_length_of_audio - audio_length]], mode='CONSTANT')\n",
    "        else:\n",
    "            resampled_audio = resampled_audio[:desired_length_of_audio]\n",
    "        resampled_audio = tf.expand_dims(resampled_audio, axis=-1).numpy()\n",
    "\n",
    "        x_data.append(resampled_audio)\n",
    "        y_data.append(class_encoded)\n",
    "\n",
    "# input data should be in numpy array, not in list\n",
    "x_data_np = np.array(x_data)\n",
    "y_data_np = np.array(y_data)"
   ]
  },
  {
   "cell_type": "code",
   "execution_count": 63,
   "metadata": {},
   "outputs": [
    {
     "name": "stdout",
     "output_type": "stream",
     "text": [
      "(48000, 1)\n"
     ]
    }
   ],
   "source": [
    "for i in x_data_np:\n",
    "    print(i.shape)\n",
    "    break"
   ]
  },
  {
   "cell_type": "markdown",
   "metadata": {},
   "source": [
    "### CNN"
   ]
  },
  {
   "cell_type": "markdown",
   "metadata": {},
   "source": [
    "##### CNN initial model in keras format"
   ]
  },
  {
   "cell_type": "code",
   "execution_count": 64,
   "metadata": {},
   "outputs": [
    {
     "name": "stdout",
     "output_type": "stream",
     "text": [
      "File size: 712.659 Kilobytes\n"
     ]
    }
   ],
   "source": [
    "cnn_initial_model_path = 'time_series_models_from_notebooks/cnn/cnn_time_series_16kHz_baseline.keras'\n",
    "convert_bytes(get_file_size(cnn_initial_model_path), \"KB\")"
   ]
  },
  {
   "cell_type": "code",
   "execution_count": 65,
   "metadata": {},
   "outputs": [
    {
     "name": "stdout",
     "output_type": "stream",
     "text": [
      "Accuracy: 96.12%\n",
      "Recall: 92.14%\n",
      "Precision: 95.91%\n",
      "F1-score: 93.99%\n"
     ]
    }
   ],
   "source": [
    "cnn_initial_model = tf.keras.models.load_model(cnn_initial_model_path)\n",
    "# input data should be in numpy array\n",
    "y_pred_prob = cnn_initial_model.predict(x_data_np, verbose=0)\n",
    "y_pred = tf.argmax(y_pred_prob, axis=1).numpy()\n",
    "\n",
    "# Evaluate\n",
    "evaluate_prediction(y_data_np, y_pred)"
   ]
  },
  {
   "cell_type": "markdown",
   "metadata": {},
   "source": [
    "##### CNN tf Lite model (without any additional quantization techniques)"
   ]
  },
  {
   "cell_type": "code",
   "execution_count": 66,
   "metadata": {},
   "outputs": [
    {
     "name": "stdout",
     "output_type": "stream",
     "text": [
      "File size: 231.473 Kilobytes\n",
      "Accuracy: 96.12%\n",
      "Recall: 92.14%\n",
      "Precision: 95.91%\n",
      "F1-score: 93.99%\n"
     ]
    }
   ],
   "source": [
    "cnn_tflite_model_path = 'time_series_models_from_notebooks/cnn/cnn_time_series_16kHz.tflite'\n",
    "convert_bytes(get_file_size(cnn_tflite_model_path), \"KB\")\n",
    "\n",
    "y_pred = lite_model_from_file_predicts_dataset(cnn_tflite_model_path, x_data_np, y_data_np)"
   ]
  },
  {
   "cell_type": "markdown",
   "metadata": {},
   "source": [
    "##### CNN tf Lite model + Post Training Dynamic range quantization"
   ]
  },
  {
   "cell_type": "code",
   "execution_count": 67,
   "metadata": {},
   "outputs": [
    {
     "name": "stdout",
     "output_type": "stream",
     "text": [
      "File size: 63.078 Kilobytes\n",
      "Accuracy: 96.12%\n",
      "Recall: 92.14%\n",
      "Precision: 95.91%\n",
      "F1-score: 93.99%\n"
     ]
    }
   ],
   "source": [
    "cnn_drq_model_path = 'time_series_models_from_notebooks/cnn/cnn_time_series_16kHz_drq.tflite'\n",
    "convert_bytes(get_file_size(cnn_drq_model_path), \"KB\")\n",
    "\n",
    "y_pred = lite_model_from_file_predicts_dataset(cnn_drq_model_path, x_data_np, y_data_np)"
   ]
  },
  {
   "cell_type": "markdown",
   "metadata": {},
   "source": [
    "##### CNN tf Lite model + Float 16 quantization"
   ]
  },
  {
   "cell_type": "code",
   "execution_count": 68,
   "metadata": {},
   "outputs": [
    {
     "name": "stdout",
     "output_type": "stream",
     "text": [
      "File size: 119.863 Kilobytes\n",
      "Accuracy: 96.12%\n",
      "Recall: 92.14%\n",
      "Precision: 95.91%\n",
      "F1-score: 93.99%\n"
     ]
    }
   ],
   "source": [
    "cnn_float16q_model_path = 'time_series_models_from_notebooks/cnn/cnn_time_series_16kHz_float16q.tflite'\n",
    "convert_bytes(get_file_size(cnn_float16q_model_path), \"KB\")\n",
    "\n",
    "y_pred = lite_model_from_file_predicts_dataset(cnn_float16q_model_path, x_data_np, y_data_np)"
   ]
  },
  {
   "cell_type": "markdown",
   "metadata": {},
   "source": [
    "##### CNN tf Lite model + Full integer quantization"
   ]
  },
  {
   "cell_type": "code",
   "execution_count": 69,
   "metadata": {},
   "outputs": [
    {
     "name": "stdout",
     "output_type": "stream",
     "text": [
      "File size: 63.898 Kilobytes\n",
      "Accuracy: 67.12%\n",
      "Recall: 0.00%\n",
      "Precision: 0.00%\n",
      "F1-score: 0.00%\n"
     ]
    },
    {
     "name": "stderr",
     "output_type": "stream",
     "text": [
      "/home/polina/test/venv/lib/python3.9/site-packages/sklearn/metrics/_classification.py:1517: UndefinedMetricWarning: Precision is ill-defined and being set to 0.0 due to no predicted samples. Use `zero_division` parameter to control this behavior.\n",
      "  _warn_prf(average, modifier, f\"{metric.capitalize()} is\", len(result))\n"
     ]
    }
   ],
   "source": [
    "cnn_full_int_q_model_path = 'time_series_models_from_notebooks/cnn/cnn_time_series_16kHz_full_int_q.tflite'\n",
    "convert_bytes(get_file_size(cnn_full_int_q_model_path), \"KB\")\n",
    "\n",
    "y_pred = lite_model_from_file_predicts_dataset(cnn_full_int_q_model_path, x_data_np, y_data_np, input_data_uint8_type=True)"
   ]
  },
  {
   "cell_type": "markdown",
   "metadata": {},
   "source": [
    "### SqueezeNet"
   ]
  },
  {
   "cell_type": "markdown",
   "metadata": {},
   "source": [
    "##### SqueezeNet initial model in keras format"
   ]
  },
  {
   "cell_type": "code",
   "execution_count": 71,
   "metadata": {},
   "outputs": [
    {
     "name": "stdout",
     "output_type": "stream",
     "text": [
      "File size: 531.003 Kilobytes\n"
     ]
    }
   ],
   "source": [
    "squeezenet_initial_model_path = 'time_series_models_from_notebooks/squeezenet/squeezenet30%_time_series_16kHz_baseline.keras'\n",
    "convert_bytes(get_file_size(squeezenet_initial_model_path), \"KB\")"
   ]
  },
  {
   "cell_type": "code",
   "execution_count": 72,
   "metadata": {},
   "outputs": [
    {
     "name": "stdout",
     "output_type": "stream",
     "text": [
      "Accuracy: 86.22%\n",
      "Recall: 96.07%\n",
      "Precision: 71.66%\n",
      "F1-score: 82.09%\n"
     ]
    }
   ],
   "source": [
    "squeezenet_initial_model = tf.keras.models.load_model(squeezenet_initial_model_path)\n",
    "# input data should be in numpy array\n",
    "y_pred_prob = squeezenet_initial_model.predict(x_data_np, verbose=0)\n",
    "y_pred = tf.argmax(y_pred_prob, axis=1).numpy()\n",
    "\n",
    "# Evaluate\n",
    "evaluate_prediction(y_data_np, y_pred)"
   ]
  },
  {
   "cell_type": "markdown",
   "metadata": {},
   "source": [
    "##### SqueezeNet tf Lite model (without any additional quantization techniques)"
   ]
  },
  {
   "cell_type": "code",
   "execution_count": 73,
   "metadata": {},
   "outputs": [
    {
     "name": "stdout",
     "output_type": "stream",
     "text": [
      "File size: 150.871 Kilobytes\n",
      "Accuracy: 86.22%\n",
      "Recall: 96.07%\n",
      "Precision: 71.66%\n",
      "F1-score: 82.09%\n"
     ]
    }
   ],
   "source": [
    "squeezenet_tflite_model_path = 'time_series_models_from_notebooks/squeezenet/squeezenet30%_time_series_16kHz.tflite'\n",
    "convert_bytes(get_file_size(squeezenet_tflite_model_path), \"KB\")\n",
    "y_pred = lite_model_from_file_predicts_dataset(squeezenet_tflite_model_path, x_data_np, y_data_np)"
   ]
  },
  {
   "cell_type": "markdown",
   "metadata": {},
   "source": [
    "##### SqueezeNet tf Lite model + Post Training Dynamic range quantization"
   ]
  },
  {
   "cell_type": "code",
   "execution_count": 74,
   "metadata": {},
   "outputs": [
    {
     "name": "stdout",
     "output_type": "stream",
     "text": [
      "File size: 89.656 Kilobytes\n",
      "Accuracy: 86.22%\n",
      "Recall: 96.07%\n",
      "Precision: 71.66%\n",
      "F1-score: 82.09%\n"
     ]
    }
   ],
   "source": [
    "squeezenet_tflite_drq_model_path = 'time_series_models_from_notebooks/squeezenet/squeezenet30%_time_series_16kHz_drq.tflite'\n",
    "convert_bytes(get_file_size(squeezenet_tflite_drq_model_path), \"KB\")\n",
    "y_pred = lite_model_from_file_predicts_dataset(squeezenet_tflite_drq_model_path, x_data_np, y_data_np)"
   ]
  },
  {
   "cell_type": "markdown",
   "metadata": {},
   "source": [
    "##### SqueezeNet tf Lite model + Float 16 quantization"
   ]
  },
  {
   "cell_type": "code",
   "execution_count": 75,
   "metadata": {},
   "outputs": [
    {
     "name": "stdout",
     "output_type": "stream",
     "text": [
      "File size: 97.117 Kilobytes\n",
      "Accuracy: 86.22%\n",
      "Recall: 96.07%\n",
      "Precision: 71.66%\n",
      "F1-score: 82.09%\n"
     ]
    }
   ],
   "source": [
    "squeezenet_float16q_model_path = 'time_series_models_from_notebooks/squeezenet/squeezenet30%_time_series_16kHz_float16q.tflite'\n",
    "convert_bytes(get_file_size(squeezenet_float16q_model_path), \"KB\")\n",
    "\n",
    "y_pred = lite_model_from_file_predicts_dataset(squeezenet_float16q_model_path, x_data_np, y_data_np)"
   ]
  },
  {
   "cell_type": "markdown",
   "metadata": {},
   "source": [
    "##### CNN tf Lite model + Full integer quantization"
   ]
  },
  {
   "cell_type": "code",
   "execution_count": 76,
   "metadata": {},
   "outputs": [
    {
     "name": "stdout",
     "output_type": "stream",
     "text": [
      "File size: 87.039 Kilobytes\n",
      "Accuracy: 67.12%\n",
      "Recall: 0.00%\n",
      "Precision: 0.00%\n",
      "F1-score: 0.00%\n"
     ]
    },
    {
     "name": "stderr",
     "output_type": "stream",
     "text": [
      "/home/polina/test/venv/lib/python3.9/site-packages/sklearn/metrics/_classification.py:1517: UndefinedMetricWarning: Precision is ill-defined and being set to 0.0 due to no predicted samples. Use `zero_division` parameter to control this behavior.\n",
      "  _warn_prf(average, modifier, f\"{metric.capitalize()} is\", len(result))\n"
     ]
    }
   ],
   "source": [
    "squeezenet_full_int_q_model_path = 'time_series_models_from_notebooks/squeezenet/squeezenet30%_time_series_16kHz_full_int_q.tflite'\n",
    "convert_bytes(get_file_size(squeezenet_full_int_q_model_path), \"KB\")\n",
    "\n",
    "y_pred = lite_model_from_file_predicts_dataset(squeezenet_full_int_q_model_path, x_data_np, y_data_np, input_data_uint8_type=True)"
   ]
  },
  {
   "cell_type": "code",
   "execution_count": null,
   "metadata": {},
   "outputs": [],
   "source": []
  }
 ],
 "metadata": {
  "kernelspec": {
   "display_name": "ag14",
   "language": "python",
   "name": "python3"
  },
  "language_info": {
   "codemirror_mode": {
    "name": "ipython",
    "version": 3
   },
   "file_extension": ".py",
   "mimetype": "text/x-python",
   "name": "python",
   "nbconvert_exporter": "python",
   "pygments_lexer": "ipython3",
   "version": "3.9.19"
  }
 },
 "nbformat": 4,
 "nbformat_minor": 2
}
