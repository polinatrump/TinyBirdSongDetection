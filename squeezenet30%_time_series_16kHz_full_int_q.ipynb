{
 "cells": [
  {
   "cell_type": "code",
   "execution_count": 1,
   "metadata": {},
   "outputs": [],
   "source": [
    "%load_ext autoreload\n",
    "%autoreload 2"
   ]
  },
  {
   "cell_type": "code",
   "execution_count": 3,
   "metadata": {},
   "outputs": [],
   "source": [
    "import tensorflow as tf\n",
    "import numpy as np\n",
    "from tensorflow import keras\n",
    "from sklearn.metrics import f1_score\n",
    "import time\n",
    "import random\n",
    "tf.random.set_seed(3407)\n",
    "np.random.seed(3407)\n",
    "random.seed(3407)\n",
    "\n",
    "from helper_functions import (\n",
    "    evaluate_prediction,\n",
    "    get_file_size, \n",
    "    convert_bytes, \n",
    "    convert_prefetchdataset_to_numpy_arrays,\n",
    "    predict_and_print_full_results,\n",
    "    full_int_model_predict,\n",
    "    get_f1_scores_of_non_overlapping_partitions_full_int_q,\n",
    "    get_f1_scores_of_bootstarping_partitions_full_int_q,\n",
    "    )"
   ]
  },
  {
   "cell_type": "code",
   "execution_count": 4,
   "metadata": {},
   "outputs": [],
   "source": [
    "sample_rate = 16000"
   ]
  },
  {
   "cell_type": "code",
   "execution_count": 5,
   "metadata": {},
   "outputs": [
    {
     "name": "stdout",
     "output_type": "stream",
     "text": [
      "Found 11292 files belonging to 2 classes.\n"
     ]
    },
    {
     "name": "stderr",
     "output_type": "stream",
     "text": [
      "2024-06-20 11:39:31.516078: I external/local_xla/xla/stream_executor/cuda/cuda_executor.cc:887] could not open file to read NUMA node: /sys/bus/pci/devices/0000:01:00.0/numa_node\n",
      "Your kernel may have been built without NUMA support.\n",
      "2024-06-20 11:39:31.516460: W tensorflow/core/common_runtime/gpu/gpu_device.cc:2256] Cannot dlopen some GPU libraries. Please make sure the missing libraries mentioned above are installed properly if you would like to use GPU. Follow the guide at https://www.tensorflow.org/install/gpu for how to download and setup the required libraries for your platform.\n",
      "Skipping registering GPU devices...\n",
      "2024-06-20 11:39:31.606007: I tensorflow_io/core/kernels/cpu_check.cc:128] Your CPU supports instructions that this TensorFlow IO binary was not compiled to use: SSE3 SSE4.1 SSE4.2 AVX AVX2 FMA\n",
      "2024-06-20 11:39:31.612313: W tensorflow_io/core/kernels/audio_video_mp3_kernels.cc:271] libmp3lame.so.0 or lame functions are not available\n"
     ]
    },
    {
     "name": "stdout",
     "output_type": "stream",
     "text": [
      "WARNING:tensorflow:Using a while_loop for converting IO>AudioResample cause there is no registered converter for this op.\n",
      "Found 1393 files belonging to 2 classes.\n",
      "WARNING:tensorflow:Using a while_loop for converting IO>AudioResample cause there is no registered converter for this op.\n",
      "Found 1380 files belonging to 2 classes.\n",
      "WARNING:tensorflow:Using a while_loop for converting IO>AudioResample cause there is no registered converter for this op.\n",
      "Classes:  ['non_target' 'target']\n"
     ]
    }
   ],
   "source": [
    "train_dataset = tf.keras.utils.audio_dataset_from_directory(\"dataset/training\", labels='inferred', sampling_rate=16000, batch_size=32, shuffle=True, seed=3407)\n",
    "test_dataset = tf.keras.utils.audio_dataset_from_directory(\"dataset/testing\", labels='inferred', sampling_rate=16000, batch_size=32, shuffle=True, seed=3407)\n",
    "val_dataset = tf.keras.utils.audio_dataset_from_directory(\"dataset/validation\", labels='inferred', sampling_rate=16000, batch_size=32, shuffle=True, seed=3407)\n",
    "\n",
    "label_names = np.array(test_dataset.class_names)\n",
    "print(\"Classes: \", label_names)"
   ]
  },
  {
   "cell_type": "code",
   "execution_count": 6,
   "metadata": {},
   "outputs": [],
   "source": [
    "x_train_np, y_train_np = convert_prefetchdataset_to_numpy_arrays(train_dataset, data_type=\"time-series\")\n",
    "x_val_np, y_val_np = convert_prefetchdataset_to_numpy_arrays(val_dataset, data_type=\"time-series\")\n",
    "x_test_np, y_test_np = convert_prefetchdataset_to_numpy_arrays(test_dataset, data_type=\"time-series\")"
   ]
  },
  {
   "cell_type": "code",
   "execution_count": 8,
   "metadata": {},
   "outputs": [
    {
     "name": "stdout",
     "output_type": "stream",
     "text": [
      "Model: \"model\"\n",
      "__________________________________________________________________________________________________\n",
      " Layer (type)                Output Shape                 Param #   Connected to                  \n",
      "==================================================================================================\n",
      " input_1 (InputLayer)        [(None, 48000, 1)]           0         []                            \n",
      "                                                                                                  \n",
      " conv1 (Conv1D)              (None, 24000, 28)            224       ['input_1[0][0]']             \n",
      "                                                                                                  \n",
      " maxpool1 (MaxPooling1D)     (None, 11999, 28)            0         ['conv1[0][0]']               \n",
      "                                                                                                  \n",
      " fire2_squeeze (Conv1D)      (None, 11999, 4)             116       ['maxpool1[0][0]']            \n",
      "                                                                                                  \n",
      " fire2_expand_1x1 (Conv1D)   (None, 11999, 16)            80        ['fire2_squeeze[0][0]']       \n",
      "                                                                                                  \n",
      " fire2_expand_3x3 (Conv1D)   (None, 11999, 16)            208       ['fire2_squeeze[0][0]']       \n",
      "                                                                                                  \n",
      " fire2_concatenate (Concate  (None, 11999, 32)            0         ['fire2_expand_1x1[0][0]',    \n",
      " nate)                                                               'fire2_expand_3x3[0][0]']    \n",
      "                                                                                                  \n",
      " fire3_squeeze (Conv1D)      (None, 11999, 4)             132       ['fire2_concatenate[0][0]']   \n",
      "                                                                                                  \n",
      " fire3_expand_1x1 (Conv1D)   (None, 11999, 16)            80        ['fire3_squeeze[0][0]']       \n",
      "                                                                                                  \n",
      " fire3_expand_3x3 (Conv1D)   (None, 11999, 16)            208       ['fire3_squeeze[0][0]']       \n",
      "                                                                                                  \n",
      " fire3_concatenate (Concate  (None, 11999, 32)            0         ['fire3_expand_1x1[0][0]',    \n",
      " nate)                                                               'fire3_expand_3x3[0][0]']    \n",
      "                                                                                                  \n",
      " fire4_squeeze (Conv1D)      (None, 11999, 9)             297       ['fire3_concatenate[0][0]']   \n",
      "                                                                                                  \n",
      " fire4_expand_1x1 (Conv1D)   (None, 11999, 36)            360       ['fire4_squeeze[0][0]']       \n",
      "                                                                                                  \n",
      " fire4_expand_3x3 (Conv1D)   (None, 11999, 36)            1008      ['fire4_squeeze[0][0]']       \n",
      "                                                                                                  \n",
      " fire4_concatenate (Concate  (None, 11999, 72)            0         ['fire4_expand_1x1[0][0]',    \n",
      " nate)                                                               'fire4_expand_3x3[0][0]']    \n",
      "                                                                                                  \n",
      " maxpool4 (MaxPooling1D)     (None, 5999, 72)             0         ['fire4_concatenate[0][0]']   \n",
      "                                                                                                  \n",
      " fire5_squeeze (Conv1D)      (None, 5999, 9)              657       ['maxpool4[0][0]']            \n",
      "                                                                                                  \n",
      " fire5_expand_1x1 (Conv1D)   (None, 5999, 36)             360       ['fire5_squeeze[0][0]']       \n",
      "                                                                                                  \n",
      " fire5_expand_3x3 (Conv1D)   (None, 5999, 36)             1008      ['fire5_squeeze[0][0]']       \n",
      "                                                                                                  \n",
      " fire5_concatenate (Concate  (None, 5999, 72)             0         ['fire5_expand_1x1[0][0]',    \n",
      " nate)                                                               'fire5_expand_3x3[0][0]']    \n",
      "                                                                                                  \n",
      " fire6_squeeze (Conv1D)      (None, 5999, 14)             1022      ['fire5_concatenate[0][0]']   \n",
      "                                                                                                  \n",
      " fire6_expand_1x1 (Conv1D)   (None, 5999, 56)             840       ['fire6_squeeze[0][0]']       \n",
      "                                                                                                  \n",
      " fire6_expand_3x3 (Conv1D)   (None, 5999, 56)             2408      ['fire6_squeeze[0][0]']       \n",
      "                                                                                                  \n",
      " fire6_concatenate (Concate  (None, 5999, 112)            0         ['fire6_expand_1x1[0][0]',    \n",
      " nate)                                                               'fire6_expand_3x3[0][0]']    \n",
      "                                                                                                  \n",
      " fire7_squeeze (Conv1D)      (None, 5999, 14)             1582      ['fire6_concatenate[0][0]']   \n",
      "                                                                                                  \n",
      " fire7_expand_1x1 (Conv1D)   (None, 5999, 56)             840       ['fire7_squeeze[0][0]']       \n",
      "                                                                                                  \n",
      " fire7_expand_3x3 (Conv1D)   (None, 5999, 56)             2408      ['fire7_squeeze[0][0]']       \n",
      "                                                                                                  \n",
      " fire7_concatenate (Concate  (None, 5999, 112)            0         ['fire7_expand_1x1[0][0]',    \n",
      " nate)                                                               'fire7_expand_3x3[0][0]']    \n",
      "                                                                                                  \n",
      " fire8_squeeze (Conv1D)      (None, 5999, 19)             2147      ['fire7_concatenate[0][0]']   \n",
      "                                                                                                  \n",
      " fire8_expand_1x1 (Conv1D)   (None, 5999, 76)             1520      ['fire8_squeeze[0][0]']       \n",
      "                                                                                                  \n",
      " fire8_expand_3x3 (Conv1D)   (None, 5999, 76)             4408      ['fire8_squeeze[0][0]']       \n",
      "                                                                                                  \n",
      " fire8_concatenate (Concate  (None, 5999, 152)            0         ['fire8_expand_1x1[0][0]',    \n",
      " nate)                                                               'fire8_expand_3x3[0][0]']    \n",
      "                                                                                                  \n",
      " maxpool8 (MaxPooling1D)     (None, 2999, 152)            0         ['fire8_concatenate[0][0]']   \n",
      "                                                                                                  \n",
      " fire9_squeeze (Conv1D)      (None, 2999, 19)             2907      ['maxpool8[0][0]']            \n",
      "                                                                                                  \n",
      " fire9_expand_1x1 (Conv1D)   (None, 2999, 76)             1520      ['fire9_squeeze[0][0]']       \n",
      "                                                                                                  \n",
      " fire9_expand_3x3 (Conv1D)   (None, 2999, 76)             4408      ['fire9_squeeze[0][0]']       \n",
      "                                                                                                  \n",
      " fire9_concatenate (Concate  (None, 2999, 152)            0         ['fire9_expand_1x1[0][0]',    \n",
      " nate)                                                               'fire9_expand_3x3[0][0]']    \n",
      "                                                                                                  \n",
      " conv10 (Conv1D)             (None, 2999, 2)              306       ['fire9_concatenate[0][0]']   \n",
      "                                                                                                  \n",
      " avgpool10 (GlobalAveragePo  (None, 2)                    0         ['conv10[0][0]']              \n",
      " oling1D)                                                                                         \n",
      "                                                                                                  \n",
      " softmax (Activation)        (None, 2)                    0         ['avgpool10[0][0]']           \n",
      "                                                                                                  \n",
      "==================================================================================================\n",
      "Total params: 31054 (121.30 KB)\n",
      "Trainable params: 31054 (121.30 KB)\n",
      "Non-trainable params: 0 (0.00 Byte)\n",
      "__________________________________________________________________________________________________\n",
      "File size: 0.519 Megabytes\n"
     ]
    }
   ],
   "source": [
    "BASE_MODEL_FILE_NAME = \"time_series_models_from_notebooks/squeezenet/squeezenet30%_time_series_16kHz_baseline.keras\"\n",
    "baseline_model = tf.keras.models.load_model(BASE_MODEL_FILE_NAME)\n",
    "baseline_model.summary()\n",
    "convert_bytes(get_file_size(BASE_MODEL_FILE_NAME), \"MB\")"
   ]
  },
  {
   "cell_type": "code",
   "execution_count": 9,
   "metadata": {},
   "outputs": [
    {
     "name": "stdout",
     "output_type": "stream",
     "text": [
      "Validation dataset:\n",
      "44/44 [==============================] - 20s 453ms/step\n",
      "Basic assessment of the whole dataset (without any partitions):\n",
      "Accuracy: 96.52%\n",
      "Recall: 91.95%\n",
      "Precision: 97.75%\n",
      "F1-score: 94.76%\n",
      "\n",
      "Devide dataset into 10 non-overlapping patritions and get their mean F1-score\n",
      "Non-overlap mean F1-score:  0.9461470006413389\n",
      "\n",
      "Get 100 bootstrap samples from dataset with 100 samples each and get their mean F1-score\n",
      "Bootstrap mean F1-score:  0.9490614960562602\n",
      "\n",
      "Test dataset:\n",
      "44/44 [==============================] - 21s 468ms/step\n",
      "Basic assessment of the whole dataset (without any partitions):\n",
      "Accuracy: 96.63%\n",
      "Recall: 94.10%\n",
      "Precision: 95.57%\n",
      "F1-score: 94.83%\n",
      "\n",
      "Devide dataset into 10 non-overlapping patritions and get their mean F1-score\n",
      "Non-overlap mean F1-score:  0.9486317826775494\n",
      "\n",
      "Get 100 bootstrap samples from dataset with 100 samples each and get their mean F1-score\n",
      "Bootstrap mean F1-score:  0.9482568799678605\n"
     ]
    }
   ],
   "source": [
    "print(\"Validation dataset:\")\n",
    "(\n",
    "    y_pred_val, \n",
    "    non_overlap_patritions_f1_scores_val, \n",
    "    bootstrap_patritions_f1_scores_val,\n",
    ") = predict_and_print_full_results(baseline_model, x_val_np, y_val_np, model_format=\"keras\")\n",
    "\n",
    "print(\"\\nTest dataset:\")\n",
    "(\n",
    "    y_pred_test, \n",
    "    non_overlap_patritions_f1_scores_test, \n",
    "    bootstrap_patritions_f1_scores_test,\n",
    ") = predict_and_print_full_results(baseline_model, x_test_np, y_test_np, model_format=\"keras\")"
   ]
  },
  {
   "cell_type": "code",
   "execution_count": 10,
   "metadata": {},
   "outputs": [
    {
     "data": {
      "text/plain": [
       "(48000, 1)"
      ]
     },
     "execution_count": 10,
     "metadata": {},
     "output_type": "execute_result"
    }
   ],
   "source": [
    "x_val_np[0].shape"
   ]
  },
  {
   "cell_type": "code",
   "execution_count": 13,
   "metadata": {},
   "outputs": [
    {
     "name": "stdout",
     "output_type": "stream",
     "text": [
      "INFO:tensorflow:Assets written to: /tmp/tmpw0j4e928/assets\n"
     ]
    },
    {
     "name": "stderr",
     "output_type": "stream",
     "text": [
      "INFO:tensorflow:Assets written to: /tmp/tmpw0j4e928/assets\n",
      "/home/polina/newname/venv/lib/python3.9/site-packages/tensorflow/lite/python/convert.py:953: UserWarning: Statistics for quantized inputs were expected, but not specified; continuing anyway.\n",
      "  warnings.warn(\n",
      "2024-06-20 11:50:45.117471: W tensorflow/compiler/mlir/lite/python/tf_tfl_flatbuffer_helpers.cc:378] Ignored output_format.\n",
      "2024-06-20 11:50:45.117532: W tensorflow/compiler/mlir/lite/python/tf_tfl_flatbuffer_helpers.cc:381] Ignored drop_control_dependency.\n",
      "2024-06-20 11:50:45.117871: I tensorflow/cc/saved_model/reader.cc:83] Reading SavedModel from: /tmp/tmpw0j4e928\n",
      "2024-06-20 11:50:45.127145: I tensorflow/cc/saved_model/reader.cc:51] Reading meta graph with tags { serve }\n",
      "2024-06-20 11:50:45.127181: I tensorflow/cc/saved_model/reader.cc:146] Reading SavedModel debug info (if present) from: /tmp/tmpw0j4e928\n",
      "2024-06-20 11:50:45.156751: I tensorflow/cc/saved_model/loader.cc:233] Restoring SavedModel bundle.\n",
      "2024-06-20 11:50:45.482310: I tensorflow/cc/saved_model/loader.cc:217] Running initialization op on SavedModel bundle at path: /tmp/tmpw0j4e928\n",
      "2024-06-20 11:50:45.587250: I tensorflow/cc/saved_model/loader.cc:316] SavedModel load for tags { serve }; Status: success: OK. Took 469381 microseconds.\n",
      "Summary on the non-converted ops:\n",
      "---------------------------------\n",
      " * Accepted dialects: tfl, builtin, func\n",
      " * Non-Converted Ops: 72, Total Ops 164, % non-converted = 43.90 %\n",
      " * 72 ARITH ops\n",
      "\n",
      "- arith.constant:   72 occurrences  (f32: 52, i32: 20)\n",
      "\n",
      "\n",
      "\n",
      "  (f32: 8)\n",
      "  (f32: 26)\n",
      "  (f32: 21)\n",
      "  (f32: 3)\n",
      "  (f32: 1)\n",
      "  (f32: 29)\n",
      "  (f32: 1)\n",
      "fully_quantize: 0, inference_type: 6, input_inference_type: UINT8, output_inference_type: UINT8\n"
     ]
    }
   ],
   "source": [
    "def representative_data_gen():\n",
    "  for input_value in tf.data.Dataset.from_tensor_slices(x_val_np).batch(1).take(100):\n",
    "    yield [input_value]\n",
    "\n",
    "full_int_converter = tf.lite.TFLiteConverter.from_keras_model(baseline_model)\n",
    "full_int_converter.optimizations = [tf.lite.Optimize.DEFAULT]\n",
    "full_int_converter.representative_dataset = representative_data_gen\n",
    "# Ensure that if any ops can't be quantized, the converter throws an error\n",
    "full_int_converter.target_spec.supported_ops = [tf.lite.OpsSet.TFLITE_BUILTINS_INT8]\n",
    "# Set the input and output tensors to uint8 (APIs added in r2.3)\n",
    "full_int_converter.inference_input_type = tf.uint8\n",
    "full_int_converter.inference_output_type = tf.uint8\n",
    "\n",
    "tflite_model_quant = full_int_converter.convert()"
   ]
  },
  {
   "cell_type": "code",
   "execution_count": 14,
   "metadata": {},
   "outputs": [
    {
     "name": "stdout",
     "output_type": "stream",
     "text": [
      "input:  <class 'numpy.uint8'>\n",
      "output:  <class 'numpy.uint8'>\n"
     ]
    }
   ],
   "source": [
    "interpreter = tf.lite.Interpreter(model_content=tflite_model_quant)\n",
    "input_type = interpreter.get_input_details()[0]['dtype']\n",
    "print('input: ', input_type)\n",
    "output_type = interpreter.get_output_details()[0]['dtype']\n",
    "print('output: ', output_type)"
   ]
  },
  {
   "cell_type": "code",
   "execution_count": 15,
   "metadata": {},
   "outputs": [
    {
     "data": {
      "text/plain": [
       "89128"
      ]
     },
     "execution_count": 15,
     "metadata": {},
     "output_type": "execute_result"
    }
   ],
   "source": [
    "import pathlib\n",
    "\n",
    "tflite_models_dir = pathlib.Path(\"time_series_models_from_notebooks/squeezenet/\")\n",
    "tflite_models_dir.mkdir(exist_ok=True, parents=True)\n",
    "\n",
    "# Save the quantized model:\n",
    "tflite_model_quant_file = tflite_models_dir/\"squeezenet30%_time_series_16kHz_full_int_q.tflite\"\n",
    "tflite_model_quant_file.write_bytes(tflite_model_quant)"
   ]
  },
  {
   "cell_type": "code",
   "execution_count": 16,
   "metadata": {},
   "outputs": [
    {
     "name": "stdout",
     "output_type": "stream",
     "text": [
      "Validation dataset:\n"
     ]
    },
    {
     "name": "stderr",
     "output_type": "stream",
     "text": [
      "INFO: Created TensorFlow Lite XNNPACK delegate for CPU.\n"
     ]
    },
    {
     "name": "stdout",
     "output_type": "stream",
     "text": [
      "Accuracy: 70.00%\n",
      "Recall: 73.73%\n",
      "Precision: 54.55%\n",
      "F1-score: 62.70%\n",
      "\n",
      "Devide dataset into 10 non-overlapping patritions and get their mean F1-score\n",
      "Non-overlap mean F1-score:  0.627095461656248\n",
      "\n",
      "Get 100 bootstrap samples from dataset with 100 samples each and get their mean F1-score\n",
      "Bootstrap mean F1-score:  0.6180143374461939\n",
      "\n",
      "Test dataset:\n",
      "Accuracy: 70.78%\n",
      "Recall: 68.12%\n",
      "Precision: 54.45%\n",
      "F1-score: 60.52%\n",
      "\n",
      "Devide dataset into 10 non-overlapping patritions and get their mean F1-score\n",
      "Non-overlap mean F1-score:  0.6017122553959089\n",
      "\n",
      "Get 100 bootstrap samples from dataset with 100 samples each and get their mean F1-score\n",
      "Bootstrap mean F1-score:  0.5872310658671701\n",
      "\n",
      "Time for Test dataset:\n",
      "\n",
      "Time to make a prediction for a single data point\n",
      "Mean: 0.016 seconds\n",
      "Max: 0.038 seconds\n",
      "Min: 0.014 seconds\n",
      "File size: 87.039 Kilobytes\n"
     ]
    }
   ],
   "source": [
    "print(\"Validation dataset:\")\n",
    "predictions = full_int_model_predict(tflite_model_quant_file, x_val_np)\n",
    "evaluate_prediction(y_val_np, predictions)\n",
    "\n",
    "print(\"\\nDevide dataset into 10 non-overlapping patritions and get their mean F1-score\")\n",
    "non_overlap_patritions_f1_scores = get_f1_scores_of_non_overlapping_partitions_full_int_q(tflite_model_quant_file, x_val_np, y_val_np)\n",
    "print(\"Non-overlap mean F1-score: \", np.mean(non_overlap_patritions_f1_scores))\n",
    "\n",
    "print(\"\\nGet 100 bootstrap samples from dataset with 100 samples each and get their mean F1-score\")\n",
    "bootstrap_patritions_f1_scores = get_f1_scores_of_bootstarping_partitions_full_int_q(tflite_model_quant_file, x_val_np, y_val_np)\n",
    "print(\"Bootstrap mean F1-score: \", np.mean(bootstrap_patritions_f1_scores))\n",
    "\n",
    "\n",
    "\n",
    "print(\"\\nTest dataset:\")\n",
    "predictions = full_int_model_predict(tflite_model_quant_file, x_test_np)\n",
    "evaluate_prediction(y_test_np, predictions)\n",
    "\n",
    "print(\"\\nDevide dataset into 10 non-overlapping patritions and get their mean F1-score\")\n",
    "non_overlap_patritions_f1_scores = get_f1_scores_of_non_overlapping_partitions_full_int_q(tflite_model_quant_file, x_test_np, y_test_np)\n",
    "print(\"Non-overlap mean F1-score: \", np.mean(non_overlap_patritions_f1_scores))\n",
    "\n",
    "print(\"\\nGet 100 bootstrap samples from dataset with 100 samples each and get their mean F1-score\")\n",
    "bootstrap_patritions_f1_scores = get_f1_scores_of_bootstarping_partitions_full_int_q(tflite_model_quant_file, x_test_np, y_test_np)\n",
    "print(\"Bootstrap mean F1-score: \", np.mean(bootstrap_patritions_f1_scores))\n",
    "\n",
    "print(\"\\nTime for Test dataset:\")\n",
    "time_data = []\n",
    "for data_point in x_test_np:\n",
    "    start_time = time.time()\n",
    "    predictions = full_int_model_predict(tflite_model_quant_file, [data_point])\n",
    "    elapsed_time = time.time() - start_time\n",
    "    time_data.append(elapsed_time)\n",
    "print(\"\\nTime to make a prediction for a single data point\")\n",
    "print(f\"Mean: {round(np.mean(time_data), 3)} seconds\")\n",
    "print(f\"Max: {round(np.max(time_data), 3)} seconds\")\n",
    "print(f\"Min: {round(np.min(time_data), 3)} seconds\")\n",
    "\n",
    "convert_bytes(get_file_size(tflite_model_quant_file), \"KB\")"
   ]
  },
  {
   "cell_type": "code",
   "execution_count": null,
   "metadata": {},
   "outputs": [],
   "source": [
    "\n",
    "  "
   ]
  },
  {
   "cell_type": "code",
   "execution_count": null,
   "metadata": {},
   "outputs": [],
   "source": []
  }
 ],
 "metadata": {
  "kernelspec": {
   "display_name": "venv",
   "language": "python",
   "name": "python3"
  },
  "language_info": {
   "codemirror_mode": {
    "name": "ipython",
    "version": 3
   },
   "file_extension": ".py",
   "mimetype": "text/x-python",
   "name": "python",
   "nbconvert_exporter": "python",
   "pygments_lexer": "ipython3",
   "version": "3.9.19"
  }
 },
 "nbformat": 4,
 "nbformat_minor": 2
}
